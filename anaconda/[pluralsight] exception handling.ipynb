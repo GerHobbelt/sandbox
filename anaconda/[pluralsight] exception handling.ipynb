{
 "cells": [
  {
   "cell_type": "markdown",
   "metadata": {},
   "source": [
    "* Exceptions need to be handled to resume program. \n",
    "* Raised exception = exception object"
   ]
  },
  {
   "cell_type": "code",
   "execution_count": 8,
   "metadata": {
    "collapsed": false
   },
   "outputs": [
    {
     "name": "stderr",
     "output_type": "stream",
     "text": [
      "Conversion error: invalid literal for int() with base 10: 'hedgehog'\n",
      "Conversion error: int() argument must be a string, a bytes-like object or a number, not 'list'\n"
     ]
    },
    {
     "data": {
      "text/plain": [
       "-1"
      ]
     },
     "execution_count": 8,
     "metadata": {},
     "output_type": "execute_result"
    }
   ],
   "source": [
    "from exceptional import convert\n",
    "convert('33')\n",
    "convert('hedgehog') # get traceback from int call\n",
    "# ValueError - exception object\n",
    "# Exception propagates accross several of call stack: int()->convert()->REPL\n",
    "\n",
    "convert([4, 5, 6]) # TypeError"
   ]
  }
 ],
 "metadata": {
  "kernelspec": {
   "display_name": "Python 3",
   "language": "python",
   "name": "python3"
  },
  "language_info": {
   "codemirror_mode": {
    "name": "ipython",
    "version": 3
   },
   "file_extension": ".py",
   "mimetype": "text/x-python",
   "name": "python",
   "nbconvert_exporter": "python",
   "pygments_lexer": "ipython3",
   "version": "3.5.1"
  }
 },
 "nbformat": 4,
 "nbformat_minor": 0
}
