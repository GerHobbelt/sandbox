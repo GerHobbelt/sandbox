{
 "cells": [
  {
   "cell_type": "code",
   "execution_count": null,
   "metadata": {
    "collapsed": true
   },
   "outputs": [],
   "source": [
    "'''open() - opens a file\n",
    "Args:\n",
    "    file: path to file (required)\n",
    "    mode: read/write/append, binary/text\n",
    "        text mode => encode on write and decode on read\n",
    "        + universal newlines\n",
    "    encoding: text encoding\n",
    "'''\n",
    "import sys\n",
    "sys.getdefaultencoding() # python uses this in case encoding is not specified\n",
    "# it is recommended to specify the encoding\n",
    "# http://docs.python.org/3/library/codecs.html#standard-encodings"
   ]
  },
  {
   "cell_type": "code",
   "execution_count": 25,
   "metadata": {
    "collapsed": false
   },
   "outputs": [],
   "source": [
    "# explicit better than implicit\n",
    "f = open('wasteland.txt', mode='wt', encoding='utf-8')\n",
    "f.write('What are the roots that clutch, ') # returns number of codepoints\n",
    "f.write('what branches grow\\n')\n",
    "f.write('Out of this stony rubbish? ')\n",
    "f.close() # important to actually write the data!"
   ]
  },
  {
   "cell_type": "code",
   "execution_count": 4,
   "metadata": {
    "collapsed": false
   },
   "outputs": [
    {
     "name": "stdout",
     "output_type": "stream",
     "text": [
      "What are the roots that clutch, what branches grow\n",
      "Out of this stony rubbish? \n",
      "-rwxrwx---+ 1 Spiridonov Domain Users 79 Apr  7 12:35 wasteland.txt\n"
     ]
    }
   ],
   "source": [
    "!cat wasteland.txt\n",
    "!ls -l wasteland.txt \n",
    "# 79 bytes due to \\n\\r"
   ]
  },
  {
   "cell_type": "code",
   "execution_count": 15,
   "metadata": {
    "collapsed": false
   },
   "outputs": [],
   "source": [
    "g = open('wasteland.txt', mode='rt', encoding='utf-8')\n",
    "g.read(32) # read 32 characters (codepoitns)\n",
    "g.read() # read the rest\n",
    "g.read() # returns an empty string\n",
    "\n",
    "g.seek(0) # change file pointer position: 0 offset from the beginning\n",
    "g.readline() # read next line\n",
    "g.readline()\n",
    "# Further calls return empty string\n",
    "\n",
    "g.seek(0)\n",
    "g.readlines() # read all lines to the list\n",
    "g.close()"
   ]
  },
  {
   "cell_type": "code",
   "execution_count": 23,
   "metadata": {
    "collapsed": true
   },
   "outputs": [],
   "source": [
    "h = open('wasteland.txt', mode='at', encoding='utf-8')\n",
    "h.writelines(\n",
    "    ['Son of man,\\n',\n",
    "     'You cannot say, or guess, ',\n",
    "     'for you know only,\\n',\n",
    "     'A heap of broken images, ',\n",
    "     'where the sun beats\\n'])\n",
    "h.close()"
   ]
  },
  {
   "cell_type": "code",
   "execution_count": 24,
   "metadata": {
    "collapsed": false
   },
   "outputs": [
    {
     "data": {
      "text/plain": [
       "'What are the roots that clutch, what branches grow\\nOut of this stony rubbish? Son of man,\\nYou cannot say, or guess, for you know only,\\nA heap of broken images, where the sun beats\\n'"
      ]
     },
     "execution_count": 24,
     "metadata": {},
     "output_type": "execute_result"
    }
   ],
   "source": [
    "g = open('wasteland.txt', mode='rt', encoding='utf-8')\n",
    "g.read() # read the rest"
   ]
  },
  {
   "cell_type": "markdown",
   "metadata": {},
   "source": [
    "# with-block\n",
    "Control structure to support f.close() after f.open().\n",
    "So it allows resource cleanup with context-managers.\n",
    "\n",
    "With-block can be used with any objects that support context-manager protocol.\n",
    "\n",
    "open() returns a context-manager!"
   ]
  }
 ],
 "metadata": {
  "kernelspec": {
   "display_name": "Python 3",
   "language": "python",
   "name": "python3"
  },
  "language_info": {
   "codemirror_mode": {
    "name": "ipython",
    "version": 3
   },
   "file_extension": ".py",
   "mimetype": "text/x-python",
   "name": "python",
   "nbconvert_exporter": "python",
   "pygments_lexer": "ipython3",
   "version": "3.5.1"
  }
 },
 "nbformat": 4,
 "nbformat_minor": 0
}
