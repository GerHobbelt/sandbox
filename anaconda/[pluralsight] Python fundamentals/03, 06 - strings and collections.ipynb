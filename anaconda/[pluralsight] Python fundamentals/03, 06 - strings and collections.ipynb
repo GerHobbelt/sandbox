{
 "cells": [
  {
   "cell_type": "markdown",
   "metadata": {},
   "source": [
    "# Repetition"
   ]
  },
  {
   "cell_type": "code",
   "execution_count": 2,
   "metadata": {
    "collapsed": false
   },
   "outputs": [
    {
     "name": "stdout",
     "output_type": "stream",
     "text": [
      "True\n",
      "[1, 2, 3] [1, 2, 3]\n"
     ]
    }
   ],
   "source": [
    "# Mutable vs. immutable\n",
    "a=[1,2]\n",
    "b=a\n",
    "b.append(3)\n",
    "print(b is a)\n",
    "print(b,a)"
   ]
  },
  {
   "cell_type": "code",
   "execution_count": 9,
   "metadata": {
    "collapsed": false
   },
   "outputs": [
    {
     "name": "stdout",
     "output_type": "stream",
     "text": [
      "k= [9, 15, 24, 39]\n"
     ]
    },
    {
     "data": {
      "text/plain": [
       "[9, 15, 24, 39]"
      ]
     },
     "execution_count": 9,
     "metadata": {},
     "output_type": "execute_result"
    }
   ],
   "source": [
    "m = [9,15,24]\n",
    "def modify(k):\n",
    "    k.append(39)\n",
    "    print(\"k=\",k)\n",
    "modify(m)\n",
    "m"
   ]
  },
  {
   "cell_type": "code",
   "execution_count": 12,
   "metadata": {
    "collapsed": false
   },
   "outputs": [
    {
     "name": "stdout",
     "output_type": "stream",
     "text": [
      "**************\n",
      "norwegian blue\n",
      "**************\n"
     ]
    }
   ],
   "source": [
    "def banner(message,border='-'):\n",
    "    line = border*len(message)\n",
    "    print(line)\n",
    "    print(message)\n",
    "    print(line)\n",
    "banner(\"norwegian blue\", border=\"*\")"
   ]
  },
  {
   "cell_type": "code",
   "execution_count": 14,
   "metadata": {
    "collapsed": false
   },
   "outputs": [
    {
     "name": "stdout",
     "output_type": "stream",
     "text": [
      "Wed Mar 30 11:34:28 2016\n",
      "Wed Mar 30 11:34:28 2016\n",
      "Wed Mar 30 11:34:28 2016\n"
     ]
    }
   ],
   "source": [
    "import time\n",
    "time.ctime()\n",
    "\n",
    "def show_default(arg=time.ctime()):\n",
    "    print(arg)\n",
    "\n",
    "show_default()\n",
    "show_default()\n",
    "show_default()"
   ]
  },
  {
   "cell_type": "code",
   "execution_count": 25,
   "metadata": {
    "collapsed": false
   },
   "outputs": [
    {
     "name": "stdout",
     "output_type": "stream",
     "text": [
      "['bacon', 'eggs', 'spam']\n",
      "['baked beans', 'spam']\n",
      "['spam']\n",
      "['spam', 'spam']\n"
     ]
    }
   ],
   "source": [
    "# always use immutable objects for default values\n",
    "# None in this case -> if menu==None: menu=[]\n",
    "def add_spam(menu=[]): \n",
    "    menu.append(\"spam\")\n",
    "    return menu\n",
    "\n",
    "breakfast=['bacon','eggs']\n",
    "print(add_spam(breakfast))\n",
    "lunch=['baked beans']\n",
    "print(add_spam(lunch))\n",
    "print(add_spam())\n",
    "print(add_spam())"
   ]
  },
  {
   "cell_type": "code",
   "execution_count": 31,
   "metadata": {
    "collapsed": false,
    "scrolled": true
   },
   "outputs": [
    {
     "name": "stdout",
     "output_type": "stream",
     "text": [
      "count= 0\n",
      "count= 0\n"
     ]
    }
   ],
   "source": [
    "# Demonstrate global scope\n",
    "count = 0\n",
    "\n",
    "def show_count():\n",
    "    print(\"count=\",count)\n",
    "    \n",
    "def set_count(c):\n",
    "    # global count # uncomment to fix this\n",
    "    count=c\n",
    "    \n",
    "show_count()\n",
    "set_count(5)\n",
    "show_count()"
   ]
  },
  {
   "cell_type": "code",
   "execution_count": 8,
   "metadata": {
    "collapsed": false
   },
   "outputs": [
    {
     "data": {
      "text/plain": [
       "['__builtins__',\n",
       " '__cached__',\n",
       " '__doc__',\n",
       " '__file__',\n",
       " '__loader__',\n",
       " '__name__',\n",
       " '__package__',\n",
       " '__spec__',\n",
       " 'fetch_words',\n",
       " 'main',\n",
       " 'print_items',\n",
       " 'sys',\n",
       " 'urlopen']"
      ]
     },
     "execution_count": 8,
     "metadata": {},
     "output_type": "execute_result"
    }
   ],
   "source": [
    "import words\n",
    "type(words)\n",
    "dir(words) # describe object"
   ]
  },
  {
   "cell_type": "markdown",
   "metadata": {},
   "source": [
    "# str\n",
    "homogeneous immutable sequence of Unicode codepoints"
   ]
  },
  {
   "cell_type": "code",
   "execution_count": 76,
   "metadata": {
    "collapsed": false
   },
   "outputs": [
    {
     "name": "stdout",
     "output_type": "stream",
     "text": [
      "25\n",
      "['3', '2', '4']\n",
      "un able\n"
     ]
    }
   ],
   "source": [
    "len([3,2,5])\n",
    "len(\"llsajdkljsdkljs\")\n",
    "\n",
    "print(\"2\"+\"5\") \n",
    "# join is more efficient\n",
    "print(\"2;\".join([\"3;\",\"4\"]).split(\";\"))\n",
    "\n",
    "s1, _, s3 = \"unforgetable\".partition(\"forget\")\n",
    "# _ - suppressing warnings for unused variables for \"_\"\n",
    "print(s1, s3)"
   ]
  },
  {
   "cell_type": "code",
   "execution_count": 90,
   "metadata": {
    "collapsed": false
   },
   "outputs": [
    {
     "data": {
      "text/plain": [
       "'Math constants: pi=3.142'"
      ]
     },
     "execution_count": 90,
     "metadata": {},
     "output_type": "execute_result"
    }
   ],
   "source": [
    "\"The age of {0} is {1}. Use {0} again.\".format('Jim',32)\n",
    "    #replacement fields\n",
    "    \n",
    "# otherwise can be omitted\n",
    "\"The age of {} is {}.\".format('Jim',32)\n",
    "# named\n",
    "\"Current position {latitude} {longitude}\".format(latitude=\"60N\", \n",
    "                                                 longitude=\"5E\")\n",
    "\n",
    "pos = (65.2, 23.1, 82.2)\n",
    "\"Galactic position x={pos[0]} y={pos[1]} z={pos[2]}\".format(pos=pos)\n",
    "\n",
    "import math\n",
    "\"Math constants: pi={m.pi:.3f}\".format(m=math)"
   ]
  },
  {
   "cell_type": "markdown",
   "metadata": {},
   "source": [
    "# list\n",
    "heterogeneous mutable sequence"
   ]
  },
  {
   "cell_type": "code",
   "execution_count": 1,
   "metadata": {
    "collapsed": false
   },
   "outputs": [
    {
     "name": "stdout",
     "output_type": "stream",
     "text": [
      "['show', 'how', 'to', 'index', 'into', 'sequences']\n",
      "sequences\n",
      "['how', 'to', 'index']\n",
      "['how', 'to', 'index', 'into']\n",
      "['index', 'into', 'sequences']\n",
      "['show', 'how', 'to']\n",
      "['index', 'into', 'sequences', 'show', 'how', 'to']\n",
      "True\n",
      "False\n"
     ]
    }
   ],
   "source": [
    "s = \"show how to index into sequences\".split()\n",
    "print(s)\n",
    "print(s[-1]) #last element\n",
    "print(s[1:4]) #slicing 3 words\n",
    "print(s[1:-1]) #all but first and last\n",
    "print(s[3:]) #starting with the 3\n",
    "print(s[:3]) #up to but not including the 3\n",
    "print(s[3:]+s[:3]) # s[:x]+s[x:]==s\n",
    "a=s # equating references\n",
    "print(a is s) \n",
    "a=s[:]\n",
    "a=s.copy()\n",
    "a=list(s) # constructor can be used with any iterable objects\n",
    "print(a is s)\n",
    "\n",
    "# Shallow copy"
   ]
  },
  {
   "cell_type": "code",
   "execution_count": 7,
   "metadata": {
    "collapsed": false
   },
   "outputs": [
    {
     "name": "stdout",
     "output_type": "stream",
     "text": [
      "True\n",
      "False\n",
      "[[8, 9], [3, 4, 5]] -- [[1, 2], [3, 4, 5]]\n"
     ]
    }
   ],
   "source": [
    "# Nested lists\n",
    "a = [[1,2],[3,4]]\n",
    "b = a[:]\n",
    "a is b #False (not identity)\n",
    "a == b #True (equality)\n",
    "print(a[0] is b[0]) #True\n",
    "\n",
    "a[0]=[8,9]  # new list, then assign reference a[0]\n",
    "print(a[0] is b[0]) #Now false\n",
    "a[1].append(5) # b[1] also changes due to mutability\n",
    "print(a, \"--\", b)"
   ]
  },
  {
   "cell_type": "code",
   "execution_count": 11,
   "metadata": {
    "collapsed": false
   },
   "outputs": [
    {
     "name": "stdout",
     "output_type": "stream",
     "text": [
      "[21, 37, 21, 37, 21, 37, 21, 37]\n",
      "[0, 0, 0, 0, 0, 0, 0, 0, 0]\n",
      "[[-1, 1], [-1, 1], [-1, 1], [-1, 1], [-1, 1]]\n",
      "[[-1, 1, 2], [-1, 1, 2], [-1, 1, 2], [-1, 1, 2], [-1, 1, 2]]\n"
     ]
    }
   ],
   "source": [
    "c = [21, 37]\n",
    "d = c*4\n",
    "print(d)\n",
    "print([0]*9) \n",
    "\n",
    "# Repetition will repeat the reference w/o copying a value\n",
    "s = [[-1,+1]]*5\n",
    "print(s)\n",
    "s[0].append(2)\n",
    "print(s)"
   ]
  },
  {
   "cell_type": "code",
   "execution_count": 20,
   "metadata": {
    "collapsed": false
   },
   "outputs": [
    {
     "name": "stdout",
     "output_type": "stream",
     "text": [
      "3 fox True\n",
      "['jackdaws', 'love', 'my', 'big', 'sphinx', 'of', 'quartz']\n",
      "['jackdaws', 'love', 'my', 'sphinx', 'of', 'quartz']\n",
      "['love', 'my', 'sphinx', 'of', 'quartz']\n",
      "love my big sphinx of quartz\n"
     ]
    }
   ],
   "source": [
    "w = \"the quick brown fox jumps over the lazy dog\".split()\n",
    "i = w.index('fox')\n",
    "print(i,w[i], 'fox' in w)\n",
    "\n",
    "u = 'jackdaws love my big sphinx of quartz'.split()\n",
    "print(u)\n",
    "del u[3]\n",
    "print(u)\n",
    "u.remove('jackdaws') # <=> del u[u.index('quartz')]\n",
    "print(u)\n",
    "\n",
    "u.insert(2,'big')\n",
    "print(' '.join(u)) #calling join on space separator"
   ]
  },
  {
   "cell_type": "code",
   "execution_count": 23,
   "metadata": {
    "collapsed": false
   },
   "outputs": [
    {
     "name": "stdout",
     "output_type": "stream",
     "text": [
      "[2, 1, 3, 4, 7, 11, 18, 29, 47, 76, 129, 199]\n"
     ]
    }
   ],
   "source": [
    "# Works for any iterable series\n",
    "m = [2, 1, 3]\n",
    "n = [4, 7, 11]\n",
    "k = m+n  # merge, new list \n",
    "k += [18,29,47] # merge once more, same list\n",
    "k.extend([76,129,199]) # merge once more, same list\n",
    "print(k)"
   ]
  },
  {
   "cell_type": "code",
   "execution_count": 5,
   "metadata": {
    "collapsed": false
   },
   "outputs": [
    {
     "name": "stdout",
     "output_type": "stream",
     "text": [
      "[1112111, 1211, 21, 11, 1]\n",
      "I do not know where company doctors illegibly perplexing handwriting\n",
      "<class 'list_reverseiterator'> <list_reverseiterator object at 0x000001BA5BA71860>\n"
     ]
    }
   ],
   "source": [
    "g = [1, 11, 21, 1211, 1112111]\n",
    "g.reverse() # reverse in place\n",
    "g.sort() # sort in place\n",
    "g.sort(reverse=True)\n",
    "print(g)\n",
    "\n",
    "# Key for sort should be a callable object\n",
    "# e.g. len is a callable object\n",
    "h = 'not perplexing do handwriting company where I illegibly know doctors'.split()\n",
    "h.sort(key=len)\n",
    "print(' '.join(h))\n",
    "\n",
    "x = [4, 9, 2, 1]\n",
    "y = sorted(x) # new list\n",
    "y = reversed(x) # new reversed iterator\n",
    "print(type(y),y)"
   ]
  },
  {
   "cell_type": "markdown",
   "metadata": {},
   "source": [
    "# range\n",
    "(collection) (immutable sequence) arithmetic progression of integers"
   ]
  },
  {
   "cell_type": "code",
   "execution_count": 7,
   "metadata": {
    "collapsed": false
   },
   "outputs": [
    {
     "data": {
      "text/plain": [
       "[5, 7, 9]"
      ]
     },
     "execution_count": 7,
     "metadata": {},
     "output_type": "execute_result"
    }
   ],
   "source": [
    "range(0,5) # [0,5)\n",
    "list(range(5,10,2))"
   ]
  },
  {
   "cell_type": "code",
   "execution_count": 101,
   "metadata": {
    "collapsed": false
   },
   "outputs": [
    {
     "name": "stdout",
     "output_type": "stream",
     "text": [
      "0\n",
      "1\n",
      "4\n",
      "6\n",
      "13\n",
      "0\n",
      "1\n",
      "4\n",
      "6\n",
      "13\n",
      "i=0, v=0\n",
      "i=1, v=1\n",
      "i=2, v=4\n",
      "i=3, v=6\n",
      "i=4, v=13\n"
     ]
    }
   ],
   "source": [
    "s = [0, 1, 4, 6, 13]\n",
    "# unPythonic:\n",
    "for i in range(len(s)):\n",
    "    print(s[i])\n",
    "\n",
    "# OK\n",
    "for v in s:\n",
    "    print(v)\n",
    "    \n",
    "# OK\n",
    "for i, v in enumerate(s): # yields (index, value) tuples\n",
    "    print(\"i={}, v={}\".format(i,v))"
   ]
  },
  {
   "cell_type": "markdown",
   "metadata": {},
   "source": [
    "# tuple\n",
    "heterogeneous immutable sequence"
   ]
  },
  {
   "cell_type": "code",
   "execution_count": 48,
   "metadata": {
    "collapsed": false
   },
   "outputs": [
    {
     "name": "stdout",
     "output_type": "stream",
     "text": [
      "('Norway', 4.953)\n",
      "Norway\n",
      "4.953\n",
      "3\n",
      "('Norway', 4.953, 3, 338, 0, 32) ('Norway', 4.953, 3, 'Norway', 4.953, 3, 'Norway', 4.953, 3)\n"
     ]
    }
   ],
   "source": [
    "t=(\"Norway\",4.953,3)\n",
    "print(t[0:2])\n",
    "for item in t:\n",
    "    print(item)\n",
    "print (t+(338,0,32),t*3)\n",
    "\n",
    "k = (391,) #single-element tuple\n",
    "e = () #empty tuple"
   ]
  },
  {
   "cell_type": "code",
   "execution_count": 57,
   "metadata": {
    "collapsed": false
   },
   "outputs": [
    {
     "name": "stdout",
     "output_type": "stream",
     "text": [
      "1 19\n",
      "('S', 't', 'r', 'i', 'n', 'g')\n"
     ]
    },
    {
     "data": {
      "text/plain": [
       "True"
      ]
     },
     "execution_count": 57,
     "metadata": {},
     "output_type": "execute_result"
    }
   ],
   "source": [
    "p = 1,1,1,4,6,19 # parentheses can be omitted\n",
    "def minmax(items):\n",
    "    return min(items), max(items)\n",
    "\n",
    "minmax(p)\n",
    "lower,upper = minmax(p) \n",
    "    # tuple unpacking - two separate references\n",
    "print(lower,upper)\n",
    "\n",
    "a='jelly'\n",
    "b='bean'\n",
    "a, b = b, a # swapping values\n",
    "\n",
    "# Using tuple constructor to create a tuple from other data structures\n",
    "tuple([561,2])\n",
    "print(tuple(\"String\"))\n",
    "\n",
    "5 in (3,5,17) # check that contains"
   ]
  },
  {
   "cell_type": "markdown",
   "metadata": {},
   "source": [
    "# dict"
   ]
  },
  {
   "cell_type": "code",
   "execution_count": 13,
   "metadata": {
    "collapsed": false
   },
   "outputs": [
    {
     "name": "stdout",
     "output_type": "stream",
     "text": [
      "{'Alice': 32, 'Bob': 48, 'Charlie': 28}\n",
      "{'a': 'alpha', 'c': 'charlie', 'b': 'beta'}\n",
      "True True\n",
      "False True\n",
      "{'Google': 'http://google.com', 'Pluralsight': 'http://pluralsight.com', 'indigo': 4915330, 'goldenrod': 14329120}\n",
      "\n",
      "Google => http://google.com\n",
      "Pluralsight => http://pluralsight.com\n",
      "indigo => 4915330\n",
      "goldenrod => 14329120\n",
      "\n",
      "http://google.com\n",
      "http://pluralsight.com\n",
      "4915330\n",
      "14329120\n",
      "\n",
      "Google => http://google.com\n",
      "Pluralsight => http://pluralsight.com\n",
      "indigo => 4915330\n",
      "goldenrod => 14329120\n"
     ]
    }
   ],
   "source": [
    "# keys are immutable: strings, numbers, tuples\n",
    "urls={'Google': 'http://google.com',\n",
    "     'Pluralsight': 'http://pluralsight.com'}\n",
    "\n",
    "names_and_ages = [('Alice',32), ('Bob', 48), ('Charlie',28)]\n",
    "d = dict(names_and_ages) # dict constructor\n",
    "print(d)\n",
    "d = dict(a='alpha', b='beta', c='charlie') # from identifiers\n",
    "print(d)\n",
    "\n",
    "d = dict(goldenrod=0xDAA520, indigo=0x4B0082)\n",
    "e = d # dictionary copying is shallow by default \n",
    "print (e is d, e['goldenrod'] is d['goldenrod']) # copying reference\n",
    "e = d.copy() # new shallow copy (new reference, objects the same)\n",
    "e = dict(e) # new shallow copy\n",
    "print (e is d, e['goldenrod'] is d['goldenrod'])\n",
    "\n",
    "d.update(urls)\n",
    "print(d) # values under same keys will be updated\n",
    "\n",
    "# Dicts are iterable => can be used in for loops\n",
    "print()\n",
    "for key in d: # <=> d.keys() - default view\n",
    "    print(\"{key} => {value}\".format(key=key,value=d[key]))\n",
    "\n",
    "print()\n",
    "for value in d.values(): # iterable view on dict's values\n",
    "    print(value)\n",
    "    \n",
    "print()\n",
    "for key, value in d.items(): # items() view\n",
    "    print(\"{key} => {value}\".format(key=key,value=value))\n",
    "    \n",
    "'Google' in d # works on keys\n",
    "del d['Google'] # remove by key"
   ]
  },
  {
   "cell_type": "code",
   "execution_count": null,
   "metadata": {
    "collapsed": true
   },
   "outputs": [],
   "source": [
    "from pprint import pprint as pp # be careful not to rebind the module ref!\n"
   ]
  },
  {
   "cell_type": "markdown",
   "metadata": {},
   "source": [
    "# set\n",
    "unordered collection of unique, immutable objects"
   ]
  },
  {
   "cell_type": "code",
   "execution_count": 40,
   "metadata": {
    "collapsed": false,
    "scrolled": true
   },
   "outputs": [
    {
     "name": "stdout",
     "output_type": "stream",
     "text": [
      "{8128, 496, 28, 6}\n",
      "{8128, 128, 2, 6, 496, 28}\n",
      "{8128, 128, 2, 496, 6, 28} False\n",
      "\n",
      "{8128, 128, 2, 6, 496, 28} {64, 128, 2, 8128, 4, 6, 16, 496, 28}\n",
      "True\n",
      "{8128, 128, 2, 6, 496, 28}\n",
      "set()\n",
      "{64, 4, 16}\n",
      "True\n"
     ]
    }
   ],
   "source": [
    "p = {6, 28, 496, 8128}\n",
    "d = {} # empty dict!\n",
    "d = set() # empty set\n",
    "\n",
    "s = set([2, 2, 4, 16, 64]) # use set constructor to create from other types\n",
    "# removes duplicates\n",
    "# for, in, not in\n",
    "print(p)\n",
    "p.add(2)\n",
    "p.update([37,128]) # add new elements using constructor\n",
    "p.remove(37) # requires item to be present, otherwise -> error\n",
    "p.discard(37) # ahlways succeeds\n",
    "print(p)\n",
    "\n",
    "# Reference copying:\n",
    "s = p\n",
    "\n",
    "# Shallow copying:\n",
    "s = p.copy() \n",
    "s = set(p)\n",
    "\n",
    "# Use deepcopy for deep copying\n",
    "print(s, s is p)\n",
    "\n",
    "# Set operations\n",
    "s = set([2, 2, 4, 16, 64]+list(p))\n",
    "print()\n",
    "print(p, s)\n",
    "p.union(s)\n",
    "print(p.union(s)==s)\n",
    "print(p.intersection(s))\n",
    "print(p.difference(s))\n",
    "print(p.symmetric_difference(s))\n",
    "print(p.issubset(s))"
   ]
  },
  {
   "cell_type": "markdown",
   "metadata": {},
   "source": [
    "# Collection prototols\n",
    "* *Container* - all: in and not in\n",
    "* *Sized* - all: len(s)\n",
    "* *iterable* - all: for item in iterable: do_something(item)\n",
    "* *sequence* - all but dict: seq[index], seq.index(item), seq.count(item), reversed(seq)\n",
    "* *mutable sequence* - list\n",
    "* *mutable set* - set\n",
    "* *mustable mapping* - dict"
   ]
  }
 ],
 "metadata": {
  "kernelspec": {
   "display_name": "Python 3",
   "language": "python",
   "name": "python3"
  },
  "language_info": {
   "codemirror_mode": {
    "name": "ipython",
    "version": 3
   },
   "file_extension": ".py",
   "mimetype": "text/x-python",
   "name": "python",
   "nbconvert_exporter": "python",
   "pygments_lexer": "ipython3",
   "version": "3.5.1"
  }
 },
 "nbformat": 4,
 "nbformat_minor": 0
}
