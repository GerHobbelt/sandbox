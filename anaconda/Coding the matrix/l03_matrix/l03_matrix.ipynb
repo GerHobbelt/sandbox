{
 "cells": [
  {
   "cell_type": "code",
   "execution_count": 2,
   "metadata": {
    "collapsed": false
   },
   "outputs": [
    {
     "name": "stdout",
     "output_type": "stream",
     "text": [
      "b'\\xee\\x0c\\r\\n'\n",
      "True\n"
     ]
    }
   ],
   "source": [
    "# Import context\n",
    "import sys\n",
    "import os\n",
    "sys.path.insert(0, os.path.abspath('..\\\\matlib'))\n",
    "sys.path.append('..')  # Add parent directory (root)\n",
    "\n",
    "from vec import Vec\n",
    "# from mat import Mat\n",
    "\n",
    "# Check Python version (critical for solver.py)\n",
    "import imp\n",
    "sys.path\n",
    "print(imp.get_magic())\n",
    "print(imp.get_magic()==b'\\xee\\x0c\\r\\n')  # should be true"
   ]
  },
  {
   "cell_type": "code",
   "execution_count": 4,
   "metadata": {
    "collapsed": false
   },
   "outputs": [
    {
     "data": {
      "text/plain": [
       "[[0, 0, 0, 0], [0, 0, 0, 0], [0, 0, 0, 0]]"
      ]
     },
     "execution_count": 4,
     "metadata": {},
     "output_type": "execute_result"
    }
   ],
   "source": [
    "# nested comprehension for list-of-row-list representation\n",
    "# of 3x4 matrix all of whose elements are zero\n",
    "[[0 for _ in range(4)] for _ in range(3)]"
   ]
  },
  {
   "cell_type": "code",
   "execution_count": 3,
   "metadata": {
    "collapsed": false
   },
   "outputs": [
    {
     "data": {
      "text/plain": [
       "{'#': Vec({'b', 'a'},{'b': 20, 'a': 2}),\n",
       " '?': Vec({'b', 'a'},{'b': 30, 'a': 3}),\n",
       " '@': Vec({'b', 'a'},{'b': 10, 'a': 1})}"
      ]
     },
     "execution_count": 3,
     "metadata": {},
     "output_type": "execute_result"
    }
   ],
   "source": [
    "class Mat:\n",
    "    def __init__(self, labels, function):\n",
    "        self.D = labels\n",
    "        self.f = function\n",
    "\n",
    "# Identity matrix\n",
    "def identity(D): return Mat((D,D), {(k,k):1 for k in D})\n",
    "\n",
    "\"\"\"\n",
    "matrix = [ [1, 2, 3], [10, 20, 30] ]\n",
    "\n",
    "row-labels -> matrix.D[0]: 'a', 'b'\n",
    "col-labels -> matrix.D[1]: '@', '#', '?'\n",
    "\"\"\"\n",
    "\n",
    "matrix = Mat( ({'a','b'}, {'@', '#', '?'}), {('a','@'):1, ('a','#'):2, ('a','?'):3, ('b','@'):10, ('b','#'):20, ('b','?'):30} )\n",
    "\n",
    "# row to column dictionary conversion\n",
    "def mat2coldict(A):\n",
    "    return {c: Vec(A.D[0], {r:A.f[r,c] for r in A.D[0]}) for c in A.D[1]}\n",
    "\n",
    "mat2coldict(matrix)"
   ]
  },
  {
   "cell_type": "code",
   "execution_count": 4,
   "metadata": {
    "collapsed": false
   },
   "outputs": [],
   "source": [
    "!python -m doctest mat.py\n",
    "# !python -m doctest mat_sparsity.py"
   ]
  },
  {
   "cell_type": "code",
   "execution_count": 7,
   "metadata": {
    "collapsed": false
   },
   "outputs": [
    {
     "name": "stdout",
     "output_type": "stream",
     "text": [
      "\n",
      " (0, 0) (0, 1) (1, 0) (1, 1)\n",
      "----------------------------\n",
      "    one      0    one      0\n",
      "\n",
      "            (0, 0) (0, 1) (1, 0) (1, 1)\n",
      "          -----------------------------\n",
      " (0, 0)  |     one    one    one      0\n",
      " (0, 1)  |     one    one      0    one\n",
      " (1, 0)  |     one      0    one    one\n",
      " (1, 1)  |       0    one    one    one\n",
      "\n",
      "\n",
      " (0, 0) (0, 1) (1, 0) (1, 1)\n",
      "----------------------------\n",
      "      0    one      0    one\n"
     ]
    },
    {
     "data": {
      "text/plain": [
       "True"
      ]
     },
     "execution_count": 7,
     "metadata": {},
     "output_type": "execute_result"
    }
   ],
   "source": [
    "# Solving Lights Out\n",
    "from GF2 import zero, one\n",
    "\n",
    "n = 2\n",
    "D = {(i,j) for i in range(n) for j in range(n)}\n",
    "\n",
    "# Button vectors\n",
    "b00 = Vec(D, {(0,0):one, (0,1):one, (1,0):one})\n",
    "b01 = Vec(D, {(0,0):one, (0,1):one, (1,1):one})\n",
    "b10 = Vec(D, {(0,0):one, (1,0):one, (1,1):one})\n",
    "b11 = Vec(D, {(0,1):one, (1,0):one, (1,1):one})\n",
    "\n",
    "# Initial position (lights in)\n",
    "b = Vec(D, {(0,0):one, (1,0):one})\n",
    "print(b)\n",
    "\n",
    "from matutil import coldict2mat\n",
    "A = coldict2mat({(0,0):b00, (0,1):b01, (1,0):b10, (1,1):b11})\n",
    "print(A)\n",
    "\n",
    "from solver import solve\n",
    "x = solve(A, b)\n",
    "print(x)\n",
    "A*x == b"
   ]
  },
  {
   "cell_type": "code",
   "execution_count": 14,
   "metadata": {
    "collapsed": false
   },
   "outputs": [
    {
     "name": "stdout",
     "output_type": "stream",
     "text": [
      "\n",
      "         0         1\n",
      "--------------------\n",
      " -4.44E-16 -8.88E-16\n",
      "9.860761315262648e-31\n"
     ]
    }
   ],
   "source": [
    "from matutil import listlist2mat\n",
    "A = listlist2mat([[1,3],[5,7]])\n",
    "b = Vec({0,1}, {0:1, 1:1})\n",
    "u = solve(A, b)\n",
    "res = b - A*u  # if small => success\n",
    "print(res)\n",
    "print(res*res)"
   ]
  },
  {
   "cell_type": "code",
   "execution_count": 15,
   "metadata": {
    "collapsed": false
   },
   "outputs": [
    {
     "name": "stdout",
     "output_type": "stream",
     "text": [
      "\n",
      "    gnome hoop putty shooter slinky\n",
      "-----------------------------------\n",
      " 1.41E+03    0     0       0      0\n",
      "\n",
      " concrete electricity metal plastic    water\n",
      "--------------------------------------------\n",
      " 1.84E+03         566     0     283 1.13E+03\n",
      "1333583.5733695652\n"
     ]
    }
   ],
   "source": [
    "# Solving resource consumption (espionage) problem\n",
    "from mat import Mat\n",
    "col_labels={'metal','concrete','plastic','water','electricity'}\n",
    "row_labels={'gnome','hoop','slinky','putty','shooter'}\n",
    "M = Mat((row_labels,col_labels),\n",
    "        {('gnome','concrete'):1.3,\n",
    "         ('gnome','plastic'):.2,\n",
    "         ('gnome','water'):.8,\n",
    "         ('gnome','electricity'):.4})\n",
    "#etc.\n",
    "\n",
    "# Observed resource utilization\n",
    "b = Vec(col_labels, {'electricity':1409.5, 'water':1485.0, \n",
    "                     'concrete':1300.0, 'metal':226.25,\n",
    "                     'plastic':677.0})\n",
    "u = solve(M.transpose(), b)\n",
    "print(u)\n",
    "print(u*M)  # check that solution makes sense\n",
    "res = b-u*M\n",
    "print(res*res)"
   ]
  },
  {
   "cell_type": "code",
   "execution_count": 17,
   "metadata": {
    "collapsed": false
   },
   "outputs": [
    {
     "name": "stdout",
     "output_type": "stream",
     "text": [
      "0.24287856071964012\n"
     ]
    }
   ],
   "source": [
    "# For some matrix-vector equations, there is no solution\n",
    "# For these, the res(idual) will not be so small\n",
    "from vecutil import list2vec\n",
    "A = listlist2mat([[1,2], [4,5], [-6,1]])\n",
    "b = list2vec([1,1,1])\n",
    "u = solve(A, b) \n",
    "    # Computes the solution with res as small as possible\n",
    "res = b-A*u\n",
    "print(res*res)"
   ]
  },
  {
   "cell_type": "code",
   "execution_count": 18,
   "metadata": {
    "collapsed": false
   },
   "outputs": [
    {
     "name": "stdout",
     "output_type": "stream",
     "text": [
      "\n",
      "     0 1\n",
      "--------\n",
      " 1E-20 0\n",
      "1.0\n"
     ]
    }
   ],
   "source": [
    "# Some matrix-vector equations are ill-conditioned, which\n",
    "# can prevent an algorithm using floats from getting\n",
    "# even approx. solutions, even if solution exists!\n",
    "A = listlist2mat([[1e20,1],[1,0]])\n",
    "b = list2vec([1,1])\n",
    "u = solve(A, b)\n",
    "print(u)\n",
    "res = b - A*u\n",
    "print(res*res)"
   ]
  }
 ],
 "metadata": {
  "kernelspec": {
   "display_name": "Python 3.4",
   "language": "python",
   "name": "python 3.4"
  },
  "language_info": {
   "codemirror_mode": {
    "name": "ipython",
    "version": 3
   },
   "file_extension": ".py",
   "mimetype": "text/x-python",
   "name": "python",
   "nbconvert_exporter": "python",
   "pygments_lexer": "ipython3",
   "version": "3.4.4"
  }
 },
 "nbformat": 4,
 "nbformat_minor": 0
}
