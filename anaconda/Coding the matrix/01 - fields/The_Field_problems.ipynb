{
 "cells": [
  {
   "cell_type": "code",
   "execution_count": 55,
   "metadata": {
    "collapsed": false
   },
   "outputs": [
    {
     "data": {
      "text/plain": [
       "[(3, 5), (4, 6), (9, 10)]"
      ]
     },
     "execution_count": 55,
     "metadata": {},
     "output_type": "execute_result"
    }
   ],
   "source": [
    "def tuple_sum(A, B):\n",
    "    '''\n",
    "    Input:\n",
    "      -A: a list of tuples\n",
    "      -B: a list of tuples\n",
    "    Output:\n",
    "      -list of pairs (x,y) in which the first element of the\n",
    "      ith pair is the sum of the first element of the ith pair in\n",
    "      A and the first element of the ith pair in B\n",
    "    Examples:\n",
    "    >>> tuple_sum([(1,2), (10,20)],[(3,4), (30,40)])\n",
    "    [(4, 6), (40, 60)]\n",
    "    >>> tuple_sum([(0,1),(-1,0),(2,2)], [(3,4),(5,6),(7,8)])\n",
    "    [(3, 5), (4, 6), (9, 10)]\n",
    "    '''\n",
    "    # Option 1 (arbitrary # of elements in tuples)\n",
    "    # C = []\n",
    "    # for i, a in enumerate(A):\n",
    "    #     C.append(tuple(map(lambda x,y: x+y, A[i], B[i])))\n",
    "    # return C\n",
    "    \n",
    "    # Option 2 (two elements in each tuple)\n",
    "    # return [(a[0]+b[0],a[1]+b[1]) for a, b in zip(A,B)]\n",
    "\n",
    "    # Option 3 (the best)\n",
    "    return [tuple(x+y for x, y in zip(a,b)) for a, b in zip(A,B)]\n",
    "\n",
    "tuple_sum([(1,2), (10,20)],[(3,4), (30,40)])\n",
    "tuple_sum([(0,1),(-1,0),(2,2)], [(3,4),(5,6),(7,8)])"
   ]
  },
  {
   "cell_type": "code",
   "execution_count": 56,
   "metadata": {
    "collapsed": false
   },
   "outputs": [
    {
     "name": "stdout",
     "output_type": "stream",
     "text": [
      "[6, 5]\n",
      "[(6, 5), (6, 5)]\n"
     ]
    }
   ],
   "source": [
    "# Using lambda functions with multiple arguments\n",
    "print(list(map(lambda x,y: x+y, [2,3],[4,2])))  # Sum of elements in two lists\n",
    "print(list(map(lambda a,b: (a[0]+b[0], a[1]+b[1]), [(2,3),(2,3)],[(4,2),(4,2)])))  # Required task"
   ]
  },
  {
   "cell_type": "code",
   "execution_count": null,
   "metadata": {
    "collapsed": true
   },
   "outputs": [],
   "source": []
  }
 ],
 "metadata": {
  "kernelspec": {
   "display_name": "Python 3",
   "language": "python",
   "name": "python3"
  },
  "language_info": {
   "codemirror_mode": {
    "name": "ipython",
    "version": 3
   },
   "file_extension": ".py",
   "mimetype": "text/x-python",
   "name": "python",
   "nbconvert_exporter": "python",
   "pygments_lexer": "ipython3",
   "version": "3.5.1"
  }
 },
 "nbformat": 4,
 "nbformat_minor": 0
}
