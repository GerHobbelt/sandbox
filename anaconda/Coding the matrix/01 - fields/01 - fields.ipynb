{
 "cells": [
  {
   "cell_type": "markdown",
   "metadata": {},
   "source": [
    "# Complex numbers"
   ]
  },
  {
   "cell_type": "code",
   "execution_count": 10,
   "metadata": {
    "collapsed": false
   },
   "outputs": [],
   "source": [
    "# Complex numbers introduction\n",
    "L = [2+2j, 3+2j, 1.75+1j, 2+1j, 2.25+1j, 2.5j, 2.75+1j, 3+1j, 3.25+1j]\n",
    "from plotting import plot\n",
    "plot(L)\n",
    "\n",
    "from image import *\n",
    "I = color2gray(file2image('img01.png'))\n",
    "r = len(I)  # number of rows\n",
    "c = len(I[0]) # number of columns\n",
    "# Define collection of complex numbers based on intensities of pixels on the image\n",
    "M = [x+y*1j for x in range(c) for y in range(r) if I[r-y-1][x]<120]\n",
    "plot(M, max(r,c), 1)"
   ]
  },
  {
   "cell_type": "code",
   "execution_count": 11,
   "metadata": {
    "collapsed": true
   },
   "outputs": [],
   "source": [
    "# Translation\n",
    "plot({z-(2+2j) for z in L}) # moving one dot to the origin\n",
    "plot([z - (c/2+(r/2)*1j) for z in M], max(r,c), 1) # centering to the origin"
   ]
  },
  {
   "cell_type": "code",
   "execution_count": 13,
   "metadata": {
    "collapsed": true
   },
   "outputs": [],
   "source": [
    "# Scaling\n",
    "plot({0.5*z for z in L})\n",
    "plot({0.5*z for z in M}, max(r,c), 1)"
   ]
  },
  {
   "cell_type": "code",
   "execution_count": 14,
   "metadata": {
    "collapsed": true
   },
   "outputs": [],
   "source": [
    "# Reflecting (multiply by -1)\n",
    "plot({-z for z in L})\n",
    "plot({-z for z in M}, max(r,c), 1)"
   ]
  },
  {
   "cell_type": "code",
   "execution_count": 16,
   "metadata": {
    "collapsed": false
   },
   "outputs": [],
   "source": [
    "# Euler's formula\n",
    "from math import e, pi\n",
    "plot([e**(t*2*pi*1j/20) for t in range(20)])"
   ]
  },
  {
   "cell_type": "code",
   "execution_count": 19,
   "metadata": {
    "collapsed": false
   },
   "outputs": [],
   "source": [
    "# Rotating by pi/4\n",
    "from math import e, pi\n",
    "plot({z*e**(-pi*1j/4) for z in L})\n",
    "plot({z*e**(-pi*1j/4) for z in M}, max(r,c), 1)"
   ]
  },
  {
   "cell_type": "markdown",
   "metadata": {},
   "source": [
    "# GF(2)\n",
    "Galois Field 2, + mod 2"
   ]
  },
  {
   "cell_type": "code",
   "execution_count": 22,
   "metadata": {
    "collapsed": false
   },
   "outputs": [
    {
     "name": "stdout",
     "output_type": "stream",
     "text": [
      "0\n"
     ]
    }
   ],
   "source": [
    "def encrypt(p,k): \n",
    "    \"\"\"Return cypher text based on input p (plaintext) and k(secret key).\n",
    "    Assume Alice and Bob agree on secret key k beforehand.\"\"\"\n",
    "    return p+k\n",
    "\n",
    "from GF2 import one\n",
    "k = one\n",
    "p = one\n",
    "c = encrypt(p, k)\n",
    "print(c)"
   ]
  }
 ],
 "metadata": {
  "kernelspec": {
   "display_name": "Python 3",
   "language": "python",
   "name": "python3"
  },
  "language_info": {
   "codemirror_mode": {
    "name": "ipython",
    "version": 3
   },
   "file_extension": ".py",
   "mimetype": "text/x-python",
   "name": "python",
   "nbconvert_exporter": "python",
   "pygments_lexer": "ipython3",
   "version": "3.5.1"
  }
 },
 "nbformat": 4,
 "nbformat_minor": 0
}
