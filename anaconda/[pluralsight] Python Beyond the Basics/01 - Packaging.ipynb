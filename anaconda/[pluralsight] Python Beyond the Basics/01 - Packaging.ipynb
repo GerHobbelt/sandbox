{
 "cells": [
  {
   "cell_type": "markdown",
   "metadata": {},
   "source": [
    "# 1 - Packaging"
   ]
  },
  {
   "cell_type": "markdown",
   "metadata": {},
   "source": [
    "## Absolute imports\n",
    "Imports which use a full path to the module\n",
    "* from reader.reader import Reader"
   ]
  },
  {
   "cell_type": "code",
   "execution_count": 2,
   "metadata": {
    "collapsed": false
   },
   "outputs": [
    {
     "name": "stdout",
     "output_type": "stream",
     "text": [
      "<class 'module'> <class 'module'>\n"
     ]
    },
    {
     "data": {
      "text/plain": [
       "['C:\\\\Anaconda3\\\\lib\\\\urllib']"
      ]
     },
     "execution_count": 2,
     "metadata": {},
     "output_type": "execute_result"
    }
   ],
   "source": [
    "import urllib  # package == directory\n",
    "import urllib.request  # module == single file\n",
    "print(type(urllib), type(urllib.request))\n",
    "urllib.__path__  # Where urllib searches for nested modules"
   ]
  },
  {
   "cell_type": "code",
   "execution_count": 3,
   "metadata": {
    "collapsed": false
   },
   "outputs": [
    {
     "data": {
      "text/plain": [
       "['',\n",
       " 'C:\\\\Anaconda3\\\\python35.zip',\n",
       " 'C:\\\\Anaconda3\\\\DLLs',\n",
       " 'C:\\\\Anaconda3\\\\lib',\n",
       " 'C:\\\\Anaconda3',\n",
       " 'c:\\\\anaconda3\\\\lib\\\\site-packages\\\\setuptools-20.3-py3.5.egg',\n",
       " 'C:\\\\Anaconda3\\\\lib\\\\site-packages',\n",
       " 'C:\\\\Anaconda3\\\\lib\\\\site-packages\\\\Sphinx-1.3.5-py3.5.egg',\n",
       " 'C:\\\\Anaconda3\\\\lib\\\\site-packages\\\\win32',\n",
       " 'C:\\\\Anaconda3\\\\lib\\\\site-packages\\\\win32\\\\lib',\n",
       " 'C:\\\\Anaconda3\\\\lib\\\\site-packages\\\\Pythonwin',\n",
       " 'C:\\\\Anaconda3\\\\lib\\\\site-packages\\\\IPython\\\\extensions',\n",
       " 'C:\\\\Users\\\\Spiridonov\\\\.ipython']"
      ]
     },
     "execution_count": 3,
     "metadata": {},
     "output_type": "execute_result"
    }
   ],
   "source": [
    "# sys.path\n",
    "# Python checks sys.path - list of directories Python searches\n",
    "# for modules\n",
    "import sys\n",
    "sys.path"
   ]
  },
  {
   "cell_type": "code",
   "execution_count": 7,
   "metadata": {
    "collapsed": false
   },
   "outputs": [
    {
     "data": {
      "text/plain": [
       "''"
      ]
     },
     "execution_count": 7,
     "metadata": {},
     "output_type": "execute_result"
    }
   ],
   "source": [
    "sys.path[0]  # '' - look in current directory first\n",
    "# sys.path.append('not_searched')  # add entries to sys.path"
   ]
  },
  {
   "cell_type": "code",
   "execution_count": 12,
   "metadata": {
    "collapsed": false
   },
   "outputs": [
    {
     "name": "stdout",
     "output_type": "stream",
     "text": [
      "%PYTHONPATH%\n"
     ]
    }
   ],
   "source": [
    "# PYTHONPATH - environment variable listing paths to look for modules\n",
    "!echo %PYTHONPATH%"
   ]
  },
  {
   "cell_type": "code",
   "execution_count": 1,
   "metadata": {
    "collapsed": false
   },
   "outputs": [
    {
     "name": "stdout",
     "output_type": "stream",
     "text": [
      "<class 'module'> c:\\code\\sandbox\\anaconda\\[pluralsight] Python Beyond the Basics\\reader\\__init__.py\n"
     ]
    },
    {
     "data": {
      "text/plain": [
       "'c:\\\\code\\\\sandbox\\\\anaconda\\\\[pluralsight] Python Beyond the Basics\\\\reader\\\\reader.py'"
      ]
     },
     "execution_count": 1,
     "metadata": {},
     "output_type": "execute_result"
    }
   ],
   "source": [
    "# path_entry/my_package/__init__.py\n",
    "# path_entry -- must be in sys.path\n",
    "# __init__.py makes package a module\n",
    "import reader\n",
    "print(type(reader),reader.__file__)\n",
    "import reader.reader\n",
    "reader.reader.__file__"
   ]
  },
  {
   "cell_type": "code",
   "execution_count": 4,
   "metadata": {
    "collapsed": false
   },
   "outputs": [
    {
     "name": "stdout",
     "output_type": "stream",
     "text": [
      "# print('reader is being imported!')\n",
      "from reader.reader import Reader  # hoist to top-level package\n"
     ]
    }
   ],
   "source": [
    "# Not necessary after adding \"from reader.reader import Reader\"\n",
    "# r = reader.reader.Reader('reader/reader.py')  \n",
    "import reader\n",
    "r = reader.Reader('reader/__init__.py')\n",
    "print(r.read())\n",
    "r.close()"
   ]
  },
  {
   "cell_type": "code",
   "execution_count": 5,
   "metadata": {
    "collapsed": true
   },
   "outputs": [],
   "source": [
    "import reader\n",
    "import reader.compressed\n",
    "import reader.compressed.bzipped"
   ]
  },
  {
   "cell_type": "code",
   "execution_count": 1,
   "metadata": {
    "collapsed": false
   },
   "outputs": [
    {
     "name": "stdout",
     "output_type": "stream",
     "text": [
      "data compressed with bz2\n",
      "data compressed with gzip\n"
     ]
    }
   ],
   "source": [
    "import reader\n",
    "r = reader.Reader('test.bz2')\n",
    "print(r.read())\n",
    "r.close()\n",
    "\n",
    "r = reader.Reader('test.gz')\n",
    "print(r.read())\n",
    "r.close()"
   ]
  },
  {
   "cell_type": "markdown",
   "metadata": {},
   "source": [
    "## Relative imports\n",
    "Imports which use a relative path to modules **in the same package**\n",
    "* from .reader import Reader\n",
    "* . - same directory, .. - parent directory, etc."
   ]
  },
  {
   "cell_type": "markdown",
   "metadata": {},
   "source": [
    "farm / bovine / {cow.py, common.py}\n",
    "* Absolute: `from farm.bovine.common import ruminate`\n",
    "* Relative: \n",
    "    * `from .common import ruminate`\n",
    "    * `from . import common`"
   ]
  },
  {
   "cell_type": "markdown",
   "metadata": {},
   "source": [
    "## \\__all\\__ attribute\n",
    "List of attribute names imported via `from module import *`"
   ]
  },
  {
   "cell_type": "code",
   "execution_count": 7,
   "metadata": {
    "collapsed": true
   },
   "outputs": [
    {
     "data": {
      "text/plain": [
       "{'In': ['',\n",
       "  \"import reader\\nr = reader.Reader('test.bz2')\\nprint(r.read())\\nr.close()\\n\\nr = reader.Reader('test.gz')\\nprint(r.read())\\nr.close()\",\n",
       "  '## Absolute imports\\nImports which use a full path to the module',\n",
       "  'locals()',\n",
       "  'from reader.compressed import *',\n",
       "  'from reader.compressed import *\\nlocals()',\n",
       "  'from reader.compressed import *\\nbzipped',\n",
       "  'from reader.compressed import *\\nlocals()'],\n",
       " 'Out': {3: {...},\n",
       "  5: {...},\n",
       "  6: <module 'reader.compressed.bzipped' from 'c:\\\\code\\\\sandbox\\\\anaconda\\\\[pluralsight] Python Beyond the Basics\\\\reader\\\\compressed\\\\bzipped.py'>},\n",
       " '_': <module 'reader.compressed.bzipped' from 'c:\\\\code\\\\sandbox\\\\anaconda\\\\[pluralsight] Python Beyond the Basics\\\\reader\\\\compressed\\\\bzipped.py'>,\n",
       " '_3': {...},\n",
       " '_5': {...},\n",
       " '_6': <module 'reader.compressed.bzipped' from 'c:\\\\code\\\\sandbox\\\\anaconda\\\\[pluralsight] Python Beyond the Basics\\\\reader\\\\compressed\\\\bzipped.py'>,\n",
       " '__': {...},\n",
       " '___': {...},\n",
       " '__builtin__': <module 'builtins' (built-in)>,\n",
       " '__builtins__': <module 'builtins' (built-in)>,\n",
       " '__doc__': 'Automatically created module for IPython interactive environment',\n",
       " '__loader__': None,\n",
       " '__name__': '__main__',\n",
       " '__package__': None,\n",
       " '__spec__': None,\n",
       " '_dh': ['c:\\\\code\\\\sandbox\\\\anaconda\\\\[pluralsight] Python Beyond the Basics'],\n",
       " '_i': 'from reader.compressed import *\\nbzipped',\n",
       " '_i1': \"import reader\\nr = reader.Reader('test.bz2')\\nprint(r.read())\\nr.close()\\n\\nr = reader.Reader('test.gz')\\nprint(r.read())\\nr.close()\",\n",
       " '_i2': '## Absolute imports\\nImports which use a full path to the module',\n",
       " '_i3': 'locals()',\n",
       " '_i4': 'from reader.compressed import *',\n",
       " '_i5': 'from reader.compressed import *\\nlocals()',\n",
       " '_i6': 'from reader.compressed import *\\nbzipped',\n",
       " '_i7': 'from reader.compressed import *\\nlocals()',\n",
       " '_ih': ['',\n",
       "  \"import reader\\nr = reader.Reader('test.bz2')\\nprint(r.read())\\nr.close()\\n\\nr = reader.Reader('test.gz')\\nprint(r.read())\\nr.close()\",\n",
       "  '## Absolute imports\\nImports which use a full path to the module',\n",
       "  'locals()',\n",
       "  'from reader.compressed import *',\n",
       "  'from reader.compressed import *\\nlocals()',\n",
       "  'from reader.compressed import *\\nbzipped',\n",
       "  'from reader.compressed import *\\nlocals()'],\n",
       " '_ii': 'from reader.compressed import *\\nlocals()',\n",
       " '_iii': 'from reader.compressed import *',\n",
       " '_oh': {3: {...},\n",
       "  5: {...},\n",
       "  6: <module 'reader.compressed.bzipped' from 'c:\\\\code\\\\sandbox\\\\anaconda\\\\[pluralsight] Python Beyond the Basics\\\\reader\\\\compressed\\\\bzipped.py'>},\n",
       " '_sh': <module 'IPython.core.shadowns' from 'C:\\\\Anaconda3\\\\lib\\\\site-packages\\\\IPython\\\\core\\\\shadowns.py'>,\n",
       " 'bzipped': <module 'reader.compressed.bzipped' from 'c:\\\\code\\\\sandbox\\\\anaconda\\\\[pluralsight] Python Beyond the Basics\\\\reader\\\\compressed\\\\bzipped.py'>,\n",
       " 'exit': <IPython.core.autocall.ZMQExitAutocall at 0x23cfbd3bcf8>,\n",
       " 'get_ipython': <bound method InteractiveShell.get_ipython of <ipykernel.zmqshell.ZMQInteractiveShell object at 0x0000023CFBC7CA20>>,\n",
       " 'gzipped': <module 'reader.compressed.gzipped' from 'c:\\\\code\\\\sandbox\\\\anaconda\\\\[pluralsight] Python Beyond the Basics\\\\reader\\\\compressed\\\\gzipped.py'>,\n",
       " 'quit': <IPython.core.autocall.ZMQExitAutocall at 0x23cfbd3bcf8>,\n",
       " 'r': <reader.reader.Reader at 0x23cfbdf8a90>,\n",
       " 'reader': <module 'reader' from 'c:\\\\code\\\\sandbox\\\\anaconda\\\\[pluralsight] Python Beyond the Basics\\\\reader\\\\__init__.py'>}"
      ]
     },
     "execution_count": 7,
     "metadata": {},
     "output_type": "execute_result"
    }
   ],
   "source": [
    "from reader.compressed import *\n",
    "locals()"
   ]
  },
  {
   "cell_type": "markdown",
   "metadata": {},
   "source": [
    "## namespace packages\n",
    "Packages split accross several directories (PEP420)\n",
    "* have no `__init__.py`\n",
    "* This avoids complex initialization oredering problems.\n",
    "* How does Python finds namespace packages then?\n",
    "    * scans all entries in sys.path\n",
    "    * if `__init__.py` -> normal package is loaded\n",
    "    * if foo.py is foind, then it is loaded\n",
    "    * otherwise, all matching dirs in sys.path are considered\n",
    "    part of the namespace package"
   ]
  },
  {
   "cell_type": "code",
   "execution_count": 10,
   "metadata": {
    "collapsed": true
   },
   "outputs": [
    {
     "ename": "ImportError",
     "evalue": "No module named 'split_farm'",
     "output_type": "error",
     "traceback": [
      "\u001b[1;31m---------------------------------------------------------------------------\u001b[0m",
      "\u001b[1;31mImportError\u001b[0m                               Traceback (most recent call last)",
      "\u001b[1;32m<ipython-input-10-04ea5886647a>\u001b[0m in \u001b[0;36m<module>\u001b[1;34m()\u001b[0m\n\u001b[0;32m      3\u001b[0m \u001b[1;32mimport\u001b[0m \u001b[0msys\u001b[0m\u001b[1;33m\u001b[0m\u001b[0m\n\u001b[0;32m      4\u001b[0m \u001b[0msys\u001b[0m\u001b[1;33m.\u001b[0m\u001b[0mpath\u001b[0m\u001b[1;33m.\u001b[0m\u001b[0mextend\u001b[0m\u001b[1;33m(\u001b[0m\u001b[1;33m[\u001b[0m\u001b[1;34m'path1'\u001b[0m\u001b[1;33m,\u001b[0m \u001b[1;34m'path2'\u001b[0m\u001b[1;33m]\u001b[0m\u001b[1;33m)\u001b[0m\u001b[1;33m\u001b[0m\u001b[0m\n\u001b[1;32m----> 5\u001b[1;33m \u001b[1;32mimport\u001b[0m \u001b[0msplit_farm\u001b[0m\u001b[1;33m\u001b[0m\u001b[0m\n\u001b[0m\u001b[0;32m      6\u001b[0m \u001b[0msplit_farm\u001b[0m\u001b[1;33m.\u001b[0m\u001b[0m__path__\u001b[0m\u001b[1;33m\u001b[0m\u001b[0m\n\u001b[0;32m      7\u001b[0m \u001b[1;32mimport\u001b[0m \u001b[0msplit_farm\u001b[0m\u001b[1;33m.\u001b[0m\u001b[0mbird\u001b[0m\u001b[1;33m\u001b[0m\u001b[0m\n",
      "\u001b[1;31mImportError\u001b[0m: No module named 'split_farm'"
     ]
    }
   ],
   "source": [
    "# path1/split_farm/bovine/{__init__.py, cow.py, string.py}\n",
    "# path2/split_farm/bird/{__init__.py, chicken.py, turkey.py}\n",
    "import sys\n",
    "sys.path.extend(['path1', 'path2'])\n",
    "import split_farm\n",
    "split_farm.__path__\n",
    "import split_farm.bird\n",
    "import split_farm.bovine"
   ]
  },
  {
   "cell_type": "markdown",
   "metadata": {},
   "source": [
    "## Executable directories\n",
    "Directories containing entry point for Python execution. One step further - executable zip file."
   ]
  },
  {
   "cell_type": "code",
   "execution_count": 13,
   "metadata": {
    "collapsed": false
   },
   "outputs": [
    {
     "name": "stderr",
     "output_type": "stream",
     "text": [
      "C:\\Anaconda3\\python.exe: can't find '__main__' module in 'reader'\n"
     ]
    }
   ],
   "source": [
    "!python reader  # ==> can put __main__.py in a directory"
   ]
  },
  {
   "cell_type": "code",
   "execution_count": 14,
   "metadata": {
    "collapsed": false
   },
   "outputs": [
    {
     "name": "stdout",
     "output_type": "stream",
     "text": [
      "executing __main__.py with name__main__\n"
     ]
    }
   ],
   "source": [
    "!python reader/compressed"
   ]
  },
  {
   "cell_type": "markdown",
   "metadata": {},
   "source": [
    "## Recommended project structure\n",
    "* project_name\n",
    "    * licence\n",
    "    * `__main__.py`\n",
    "    * project_name`\n",
    "        * `__init__.py`\n",
    "        * more_source.py\n",
    "        * subpackage1\n",
    "            * `__init__.py`\n",
    "        * test\n",
    "            * `__init__.py`\n",
    "            * test_code.py\n",
    "    * setup.py"
   ]
  },
  {
   "cell_type": "markdown",
   "metadata": {},
   "source": [
    "## Singleton\n",
    "Implement Singleton as a module-level attribute.\n",
    "* Modules are only executed once, when first imported.\n",
    "* Module initialization order is well defined\n",
    "\n",
    "**registry.py**\n",
    "\n",
    "```\n",
    "_registry = []\n",
    "\n",
    "def register(name):\n",
    "    _register.append(name)\n",
    "    \n",
    "def registered_names():\n",
    "    return iter(_registry)\n",
    "```\n",
    "\n",
    "**use_registry.py**\n",
    "\n",
    "```\n",
    "import registry\n",
    "\n",
    "registry.register('my name')\n",
    "for name in registry.registered_names():\n",
    "    print(name)\n",
    "```\n"
   ]
  }
 ],
 "metadata": {
  "kernelspec": {
   "display_name": "Python 3",
   "language": "python",
   "name": "python3"
  },
  "language_info": {
   "codemirror_mode": {
    "name": "ipython",
    "version": 3
   },
   "file_extension": ".py",
   "mimetype": "text/x-python",
   "name": "python",
   "nbconvert_exporter": "python",
   "pygments_lexer": "ipython3",
   "version": "3.5.1"
  }
 },
 "nbformat": 4,
 "nbformat_minor": 0
}
