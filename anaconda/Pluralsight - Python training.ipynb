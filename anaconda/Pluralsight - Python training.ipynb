{
 "cells": [
  {
   "cell_type": "code",
   "execution_count": 149,
   "metadata": {
    "collapsed": false
   },
   "outputs": [
    {
     "name": "stdout",
     "output_type": "stream",
     "text": [
      "True\n",
      "2 [1, 2, 3] [1, 2, 3]\n"
     ]
    }
   ],
   "source": [
    "# Mutable vs. immutable\n",
    "a=[1,2]\n",
    "b=a\n",
    "b.append(3)\n",
    "print(b is a)\n",
    "print(c,b,a)"
   ]
  },
  {
   "cell_type": "code",
   "execution_count": 9,
   "metadata": {
    "collapsed": false
   },
   "outputs": [
    {
     "name": "stdout",
     "output_type": "stream",
     "text": [
      "k= [9, 15, 24, 39]\n"
     ]
    },
    {
     "data": {
      "text/plain": [
       "[9, 15, 24, 39]"
      ]
     },
     "execution_count": 9,
     "metadata": {},
     "output_type": "execute_result"
    }
   ],
   "source": [
    "m = [9,15,24]\n",
    "def modify(k):\n",
    "    k.append(39)\n",
    "    print(\"k=\",k)\n",
    "modify(m)\n",
    "m"
   ]
  },
  {
   "cell_type": "code",
   "execution_count": null,
   "metadata": {
    "collapsed": true
   },
   "outputs": [],
   "source": []
  },
  {
   "cell_type": "code",
   "execution_count": 12,
   "metadata": {
    "collapsed": false
   },
   "outputs": [
    {
     "name": "stdout",
     "output_type": "stream",
     "text": [
      "**************\n",
      "norwegian blue\n",
      "**************\n"
     ]
    }
   ],
   "source": [
    "def banner(message,border='-'):\n",
    "    line = border*len(message)\n",
    "    print(line)\n",
    "    print(message)\n",
    "    print(line)\n",
    "banner(\"norwegian blue\", border=\"*\")"
   ]
  },
  {
   "cell_type": "code",
   "execution_count": 14,
   "metadata": {
    "collapsed": false
   },
   "outputs": [
    {
     "name": "stdout",
     "output_type": "stream",
     "text": [
      "Wed Mar 30 11:34:28 2016\n",
      "Wed Mar 30 11:34:28 2016\n",
      "Wed Mar 30 11:34:28 2016\n"
     ]
    }
   ],
   "source": [
    "import time\n",
    "time.ctime()\n",
    "\n",
    "def show_default(arg=time.ctime()):\n",
    "    print(arg)\n",
    "\n",
    "show_default()\n",
    "show_default()\n",
    "show_default()"
   ]
  },
  {
   "cell_type": "code",
   "execution_count": 25,
   "metadata": {
    "collapsed": false
   },
   "outputs": [
    {
     "name": "stdout",
     "output_type": "stream",
     "text": [
      "['bacon', 'eggs', 'spam']\n",
      "['baked beans', 'spam']\n",
      "['spam']\n",
      "['spam', 'spam']\n"
     ]
    }
   ],
   "source": [
    "# always use immutable objects for default values\n",
    "# None in this case -> if menu==None: menu=[]\n",
    "def add_spam(menu=[]): \n",
    "    menu.append(\"spam\")\n",
    "    return menu\n",
    "\n",
    "breakfast=['bacon','eggs']\n",
    "print(add_spam(breakfast))\n",
    "lunch=['baked beans']\n",
    "print(add_spam(lunch))\n",
    "print(add_spam())\n",
    "print(add_spam())"
   ]
  },
  {
   "cell_type": "code",
   "execution_count": 31,
   "metadata": {
    "collapsed": false,
    "scrolled": true
   },
   "outputs": [
    {
     "name": "stdout",
     "output_type": "stream",
     "text": [
      "count= 0\n",
      "count= 0\n"
     ]
    }
   ],
   "source": [
    "# Demonstrate global scope\n",
    "count = 0\n",
    "\n",
    "def show_count():\n",
    "    print(\"count=\",count)\n",
    "    \n",
    "def set_count(c):\n",
    "    # global count # uncomment to fix this\n",
    "    count=c\n",
    "    \n",
    "show_count()\n",
    "set_count(5)\n",
    "show_count()"
   ]
  },
  {
   "cell_type": "code",
   "execution_count": 151,
   "metadata": {
    "collapsed": false
   },
   "outputs": [
    {
     "ename": "ImportError",
     "evalue": "No module named 'words'",
     "output_type": "error",
     "traceback": [
      "\u001b[1;31m---------------------------------------------------------------------------\u001b[0m",
      "\u001b[1;31mImportError\u001b[0m                               Traceback (most recent call last)",
      "\u001b[1;32m<ipython-input-151-b9b13641be27>\u001b[0m in \u001b[0;36m<module>\u001b[1;34m()\u001b[0m\n\u001b[1;32m----> 1\u001b[1;33m \u001b[1;32mimport\u001b[0m \u001b[0mwords\u001b[0m\u001b[1;33m\u001b[0m\u001b[0m\n\u001b[0m\u001b[0;32m      2\u001b[0m \u001b[0mtype\u001b[0m\u001b[1;33m(\u001b[0m\u001b[0mwords\u001b[0m\u001b[1;33m)\u001b[0m\u001b[1;33m\u001b[0m\u001b[0m\n\u001b[0;32m      3\u001b[0m \u001b[0mdir\u001b[0m\u001b[1;33m(\u001b[0m\u001b[0mwords\u001b[0m\u001b[1;33m)\u001b[0m \u001b[1;31m# describe object\u001b[0m\u001b[1;33m\u001b[0m\u001b[0m\n",
      "\u001b[1;31mImportError\u001b[0m: No module named 'words'"
     ]
    }
   ],
   "source": [
    "import words\n",
    "type(words)\n",
    "dir(words) # describe object"
   ]
  },
  {
   "cell_type": "markdown",
   "metadata": {},
   "source": [
    "# str\n",
    "homogeneous immutable sequence of Unicode codepoints"
   ]
  },
  {
   "cell_type": "code",
   "execution_count": 76,
   "metadata": {
    "collapsed": false
   },
   "outputs": [
    {
     "name": "stdout",
     "output_type": "stream",
     "text": [
      "25\n",
      "['3', '2', '4']\n",
      "un able\n"
     ]
    }
   ],
   "source": [
    "len([3,2,5])\n",
    "len(\"llsajdkljsdkljs\")\n",
    "\n",
    "print(\"2\"+\"5\") \n",
    "# join is more efficient\n",
    "print(\"2;\".join([\"3;\",\"4\"]).split(\";\"))\n",
    "\n",
    "s1, _, s3 = \"unforgetable\".partition(\"forget\")\n",
    "# _ - suppressing warnings for unused variables for \"_\"\n",
    "print(s1, s3)"
   ]
  },
  {
   "cell_type": "code",
   "execution_count": 90,
   "metadata": {
    "collapsed": false
   },
   "outputs": [
    {
     "data": {
      "text/plain": [
       "'Math constants: pi=3.142'"
      ]
     },
     "execution_count": 90,
     "metadata": {},
     "output_type": "execute_result"
    }
   ],
   "source": [
    "\"The age of {0} is {1}. Use {0} again.\".format('Jim',32)\n",
    "    #replacement fields\n",
    "    \n",
    "# otherwise can be omitted\n",
    "\"The age of {} is {}.\".format('Jim',32)\n",
    "# named\n",
    "\"Current position {latitude} {longitude}\".format(latitude=\"60N\", \n",
    "                                                 longitude=\"5E\")\n",
    "\n",
    "pos = (65.2, 23.1, 82.2)\n",
    "\"Galactic position x={pos[0]} y={pos[1]} z={pos[2]}\".format(pos=pos)\n",
    "\n",
    "import math\n",
    "\"Math constants: pi={m.pi:.3f}\".format(m=math)"
   ]
  },
  {
   "cell_type": "markdown",
   "metadata": {},
   "source": [
    "# list\n",
    "heterogeneous mutable sequence"
   ]
  },
  {
   "cell_type": "code",
   "execution_count": 129,
   "metadata": {
    "collapsed": false
   },
   "outputs": [
    {
     "name": "stdout",
     "output_type": "stream",
     "text": [
      "['show', 'how', 'to', 'index', 'into', 'sequences']\n",
      "sequences\n",
      "['how', 'to', 'index']\n",
      "['how', 'to', 'index', 'into']\n",
      "['index', 'into', 'sequences']\n",
      "['show', 'how', 'to']\n",
      "['index', 'into', 'sequences', 'show', 'how', 'to']\n",
      "True\n",
      "False\n"
     ]
    }
   ],
   "source": [
    "s = \"show how to index into sequences\".split()\n",
    "print(s)\n",
    "print(s[-1]) #last element\n",
    "print(s[1:4]) #slicing 3 words\n",
    "print(s[1:-1]) #all but first and last\n",
    "print(s[3:]) #starting with the 3\n",
    "print(s[:3]) #up to but not including the 3\n",
    "print(s[3:]+s[:3]) # s[:x]+s[x:]==s\n",
    "a=s # equating references\n",
    "print(a is s) \n",
    "a=s[:]\n",
    "a=s.copy()\n",
    "a=list(s) # constructor can be used with any iterable objects\n",
    "print(a is s)"
   ]
  },
  {
   "cell_type": "markdown",
   "metadata": {},
   "source": [
    "# range\n",
    "(collection) arithmetic progression of integers"
   ]
  },
  {
   "cell_type": "code",
   "execution_count": 95,
   "metadata": {
    "collapsed": false
   },
   "outputs": [
    {
     "data": {
      "text/plain": [
       "[5, 7, 9]"
      ]
     },
     "execution_count": 95,
     "metadata": {},
     "output_type": "execute_result"
    }
   ],
   "source": [
    "range(0,5) # [0,5)\n",
    "list(range(5,10,2))"
   ]
  },
  {
   "cell_type": "code",
   "execution_count": 101,
   "metadata": {
    "collapsed": false
   },
   "outputs": [
    {
     "name": "stdout",
     "output_type": "stream",
     "text": [
      "0\n",
      "1\n",
      "4\n",
      "6\n",
      "13\n",
      "0\n",
      "1\n",
      "4\n",
      "6\n",
      "13\n",
      "i=0, v=0\n",
      "i=1, v=1\n",
      "i=2, v=4\n",
      "i=3, v=6\n",
      "i=4, v=13\n"
     ]
    }
   ],
   "source": [
    "s = [0, 1, 4, 6, 13]\n",
    "# unPythonic:\n",
    "for i in range(len(s)):\n",
    "    print(s[i])\n",
    "\n",
    "# OK\n",
    "for v in s:\n",
    "    print(v)\n",
    "    \n",
    "# OK\n",
    "for i, v in enumerate(s): # yields (index, value) tuples\n",
    "    print(\"i={}, v={}\".format(i,v))"
   ]
  },
  {
   "cell_type": "markdown",
   "metadata": {},
   "source": [
    "# tuple\n",
    "(heterogeneous immutable)"
   ]
  },
  {
   "cell_type": "code",
   "execution_count": null,
   "metadata": {
    "collapsed": true
   },
   "outputs": [],
   "source": []
  },
  {
   "cell_type": "code",
   "execution_count": 48,
   "metadata": {
    "collapsed": false
   },
   "outputs": [
    {
     "name": "stdout",
     "output_type": "stream",
     "text": [
      "('Norway', 4.953)\n",
      "Norway\n",
      "4.953\n",
      "3\n",
      "('Norway', 4.953, 3, 338, 0, 32) ('Norway', 4.953, 3, 'Norway', 4.953, 3, 'Norway', 4.953, 3)\n"
     ]
    }
   ],
   "source": [
    "t=(\"Norway\",4.953,3)\n",
    "print(t[0:2])\n",
    "for item in t:\n",
    "    print(item)\n",
    "print (t+(338,0,32),t*3)\n",
    "\n",
    "k = (391,) #single-element tuple\n",
    "e = () #empty tuple"
   ]
  },
  {
   "cell_type": "code",
   "execution_count": 57,
   "metadata": {
    "collapsed": false
   },
   "outputs": [
    {
     "name": "stdout",
     "output_type": "stream",
     "text": [
      "1 19\n",
      "('S', 't', 'r', 'i', 'n', 'g')\n"
     ]
    },
    {
     "data": {
      "text/plain": [
       "True"
      ]
     },
     "execution_count": 57,
     "metadata": {},
     "output_type": "execute_result"
    }
   ],
   "source": [
    "p = 1,1,1,4,6,19 # parentheses can be omitted\n",
    "def minmax(items):\n",
    "    return min(items), max(items)\n",
    "\n",
    "minmax(p)\n",
    "lower,upper = minmax(p) \n",
    "    # tuple unpacking - two separate references\n",
    "print(lower,upper)\n",
    "\n",
    "a='jelly'\n",
    "b='bean'\n",
    "a, b = b, a # swapping values\n",
    "\n",
    "# Using tuple constructor to create a tuple from other data structures\n",
    "tuple([561,2])\n",
    "print(tuple(\"String\"))\n",
    "\n",
    "5 in (3,5,17) # check that contains"
   ]
  },
  {
   "cell_type": "markdown",
   "metadata": {},
   "source": [
    "# dict"
   ]
  },
  {
   "cell_type": "code",
   "execution_count": null,
   "metadata": {
    "collapsed": true
   },
   "outputs": [],
   "source": []
  },
  {
   "cell_type": "markdown",
   "metadata": {},
   "source": [
    "# set"
   ]
  },
  {
   "cell_type": "code",
   "execution_count": null,
   "metadata": {
    "collapsed": true
   },
   "outputs": [],
   "source": []
  },
  {
   "cell_type": "code",
   "execution_count": 147,
   "metadata": {
    "collapsed": false
   },
   "outputs": [
    {
     "name": "stdout",
     "output_type": "stream",
     "text": [
      "True\n",
      "2 [1, 2, 3] [1, 2, 3]\n"
     ]
    }
   ],
   "source": [
    "a=[1,2]\n",
    "b=a\n",
    "b.append(3)\n",
    "print(b is a)\n",
    "print(c,b,a)"
   ]
  }
 ],
 "metadata": {
  "kernelspec": {
   "display_name": "Python 3",
   "language": "python",
   "name": "python3"
  },
  "language_info": {
   "codemirror_mode": {
    "name": "ipython",
    "version": 3
   },
   "file_extension": ".py",
   "mimetype": "text/x-python",
   "name": "python",
   "nbconvert_exporter": "python",
   "pygments_lexer": "ipython3",
   "version": "3.5.1"
  }
 },
 "nbformat": 4,
 "nbformat_minor": 0
}
