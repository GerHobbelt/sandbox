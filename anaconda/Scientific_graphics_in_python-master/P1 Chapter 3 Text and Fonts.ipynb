{
 "cells": [
  {
   "cell_type": "markdown",
   "metadata": {},
   "source": [
    "## Научная графика в python\n",
    "\n",
    "Автор: Шабанов Павел Александрович\n",
    "\n",
    "E-mail: pa.shabanov@gmail.com\n",
    "\n",
    "## Глава 3 Текст и шрифты\n",
    "\n",
    "Текст является одним из базовых графических элементов рисунка в matplotlib. Подписи координатных осей и их делений, заголовки, пояснительные подписи на графиках и диаграммах - это всё текст. В Matplotlib возможна поддержка кириллицы для создания научной графики с подписями на русском языке. Одним из весомых преимуществ matplotlib при работе с текстом является простая поддержка математических формул с помощью LaTex. \n",
    "\n",
    "### Электронные ресурсы:\n",
    "\n",
    "+ [Инструкция по конфигурации файла настройки matplotlibrc](http://matplotlib.org/users/customizing.html);\n",
    "\n",
    "+ [Об особенностях использования LaTeX в matplotlib](http://matplotlib.org/users/usetex.html);\n",
    "\n",
    "+ [О работе с текстом в matplotlib](http://matplotlib.org/users/text_intro.html);\n",
    "\n",
    "+ [О свойствах текста](http://matplotlib.org/users/text_props.html)."
   ]
  },
  {
   "cell_type": "code",
   "execution_count": 2,
   "metadata": {
    "collapsed": true
   },
   "outputs": [],
   "source": [
    "# Преамбула\n",
    "%matplotlib inline\n",
    "\n",
    "import os\n",
    "import matplotlib.pyplot as plt\n",
    "\n",
    "def save(name='', fmt='png'):\n",
    "    pwd = os.getcwd()\n",
    "    os.chdir('./pictures/%s' % fmt)\n",
    "    plt.savefig('%s.%s' % (name, fmt), fmt='png')\n",
    "    os.chdir(pwd)"
   ]
  },
  {
   "cell_type": "markdown",
   "metadata": {},
   "source": [
    "### 3.1 Файл настройки matplotlibrc\n",
    "\n",
    "В matplotlib существует файл настройки в котором хранятся значения по умолчанию для разных свойств графических элементов. Он называется matplotlibrc. Он инициализируется при каждой загрузке модуля matplotlib. Изменив содержание файла matplotlibrc можно сохранить пользовательские настройки для работы при следующих загрузках модуля matplotlib. Чтобы узнать какой именно файл настройки используется при инициализации, можно воспользоваться специальной функцией matplotlib.matplotlib_fname().\n",
    "\n",
    "Для работы с настройками в интерактивном режиме, то есть из консоли или в скрипте, существует matplotlib.rcParams. C помощью matplotlib.rcParams можно, во-первых, установить все параметры рисования (шрифты, толшина/тип линий, оформление рамок) на необходимые значения, а во-вторых, увидеть, собственно, список настроек, то есть список того, что можно изменить."
   ]
  },
  {
   "cell_type": "code",
   "execution_count": 3,
   "metadata": {
    "collapsed": false
   },
   "outputs": [
    {
     "name": "stdout",
     "output_type": "stream",
     "text": [
      "C:\\Users\\pasha\\Anaconda\\lib\\site-packages\\matplotlib\\mpl-data\\matplotlibrc\n"
     ]
    },
    {
     "data": {
      "text/plain": [
       "RcParams({u'agg.path.chunksize': 0,\n",
       "          u'animation.avconv_args': [],\n",
       "          u'animation.avconv_path': u'avconv',\n",
       "          u'animation.bitrate': -1,\n",
       "          u'animation.codec': u'mpeg4',\n",
       "          u'animation.convert_args': [],\n",
       "          u'animation.convert_path': u'convert',\n",
       "          u'animation.ffmpeg_args': [],\n",
       "          u'animation.ffmpeg_path': u'ffmpeg',\n",
       "          u'animation.frame_format': u'png',\n",
       "          u'animation.mencoder_args': [],\n",
       "          u'animation.mencoder_path': u'mencoder',\n",
       "          u'animation.writer': u'ffmpeg',\n",
       "          u'axes.axisbelow': False,\n",
       "          u'axes.color_cycle': [u'b', u'g', u'r', u'c', u'm', u'y', u'k'],\n",
       "          u'axes.edgecolor': u'k',\n",
       "          u'axes.facecolor': u'w',\n",
       "          u'axes.formatter.limits': [-7, 7],\n",
       "          u'axes.formatter.use_locale': False,\n",
       "          u'axes.formatter.use_mathtext': False,\n",
       "          u'axes.formatter.useoffset': True,\n",
       "          u'axes.grid': False,\n",
       "          u'axes.grid.which': u'major',\n",
       "          u'axes.hold': True,\n",
       "          u'axes.labelcolor': u'k',\n",
       "          u'axes.labelsize': u'medium',\n",
       "          u'axes.labelweight': u'normal',\n",
       "          u'axes.linewidth': 1.0,\n",
       "          u'axes.titlesize': u'large',\n",
       "          u'axes.titleweight': u'normal',\n",
       "          u'axes.unicode_minus': True,\n",
       "          u'axes.xmargin': 0.0,\n",
       "          u'axes.ymargin': 0.0,\n",
       "          u'axes3d.grid': True,\n",
       "          u'backend': 'module://IPython.kernel.zmq.pylab.backend_inline',\n",
       "          u'backend.qt4': u'PyQt4',\n",
       "          u'backend.qt5': u'PyQt5',\n",
       "          u'backend_fallback': True,\n",
       "          u'contour.negative_linestyle': u'dashed',\n",
       "          u'datapath': u'C:\\\\Users\\\\pasha\\\\Anaconda\\\\lib\\\\site-packages\\\\matplotlib\\\\mpl-data',\n",
       "          u'docstring.hardcopy': False,\n",
       "          u'examples.directory': u'',\n",
       "          u'figure.autolayout': False,\n",
       "          u'figure.dpi': 80.0,\n",
       "          u'figure.edgecolor': (1, 1, 1, 0),\n",
       "          u'figure.facecolor': (1, 1, 1, 0),\n",
       "          u'figure.figsize': [6.0, 4.0],\n",
       "          u'figure.frameon': True,\n",
       "          u'figure.max_open_warning': 20,\n",
       "          u'figure.subplot.bottom': 0.125,\n",
       "          u'figure.subplot.hspace': 0.2,\n",
       "          u'figure.subplot.left': 0.125,\n",
       "          u'figure.subplot.right': 0.9,\n",
       "          u'figure.subplot.top': 0.9,\n",
       "          u'figure.subplot.wspace': 0.2,\n",
       "          u'font.cursive': [u'Apple Chancery',\n",
       "                            u'Textile',\n",
       "                            u'Zapf Chancery',\n",
       "                            u'Sand',\n",
       "                            u'cursive'],\n",
       "          u'font.family': [u'sans-serif'],\n",
       "          u'font.fantasy': [u'Comic Sans MS',\n",
       "                            u'Chicago',\n",
       "                            u'Charcoal',\n",
       "                            u'ImpactWestern',\n",
       "                            u'fantasy'],\n",
       "          u'font.monospace': [u'Bitstream Vera Sans Mono',\n",
       "                              u'DejaVu Sans Mono',\n",
       "                              u'Andale Mono',\n",
       "                              u'Nimbus Mono L',\n",
       "                              u'Courier New',\n",
       "                              u'Courier',\n",
       "                              u'Fixed',\n",
       "                              u'Terminal',\n",
       "                              u'monospace'],\n",
       "          u'font.sans-serif': [u'Bitstream Vera Sans',\n",
       "                               u'DejaVu Sans',\n",
       "                               u'Lucida Grande',\n",
       "                               u'Verdana',\n",
       "                               u'Geneva',\n",
       "                               u'Lucid',\n",
       "                               u'Arial',\n",
       "                               u'Helvetica',\n",
       "                               u'Avant Garde',\n",
       "                               u'sans-serif'],\n",
       "          u'font.serif': [u'Bitstream Vera Serif',\n",
       "                          u'DejaVu Serif',\n",
       "                          u'New Century Schoolbook',\n",
       "                          u'Century Schoolbook L',\n",
       "                          u'Utopia',\n",
       "                          u'ITC Bookman',\n",
       "                          u'Bookman',\n",
       "                          u'Nimbus Roman No9 L',\n",
       "                          u'Times New Roman',\n",
       "                          u'Times',\n",
       "                          u'Palatino',\n",
       "                          u'Charter',\n",
       "                          u'serif'],\n",
       "          u'font.size': 10.0,\n",
       "          u'font.stretch': u'normal',\n",
       "          u'font.style': u'normal',\n",
       "          u'font.variant': u'normal',\n",
       "          u'font.weight': u'normal',\n",
       "          u'grid.alpha': 1.0,\n",
       "          u'grid.color': u'k',\n",
       "          u'grid.linestyle': u':',\n",
       "          u'grid.linewidth': 0.5,\n",
       "          u'image.aspect': u'equal',\n",
       "          u'image.cmap': u'jet',\n",
       "          u'image.interpolation': u'bilinear',\n",
       "          u'image.lut': 256,\n",
       "          u'image.origin': u'upper',\n",
       "          u'image.resample': False,\n",
       "          u'interactive': True,\n",
       "          u'keymap.all_axes': [u'a'],\n",
       "          u'keymap.back': [u'left', u'c', u'backspace'],\n",
       "          u'keymap.forward': [u'right', u'v'],\n",
       "          u'keymap.fullscreen': [u'f', u'ctrl+f'],\n",
       "          u'keymap.grid': [u'g'],\n",
       "          u'keymap.home': [u'h', u'r', u'home'],\n",
       "          u'keymap.pan': [u'p'],\n",
       "          u'keymap.quit': [u'ctrl+w', u'cmd+w'],\n",
       "          u'keymap.save': [u's', u'ctrl+s'],\n",
       "          u'keymap.xscale': [u'k', u'L'],\n",
       "          u'keymap.yscale': [u'l'],\n",
       "          u'keymap.zoom': [u'o'],\n",
       "          u'legend.borderaxespad': 0.5,\n",
       "          u'legend.borderpad': 0.4,\n",
       "          u'legend.columnspacing': 2.0,\n",
       "          u'legend.fancybox': False,\n",
       "          u'legend.fontsize': u'large',\n",
       "          u'legend.framealpha': None,\n",
       "          u'legend.frameon': True,\n",
       "          u'legend.handleheight': 0.7,\n",
       "          u'legend.handlelength': 2.0,\n",
       "          u'legend.handletextpad': 0.8,\n",
       "          u'legend.isaxes': True,\n",
       "          u'legend.labelspacing': 0.5,\n",
       "          u'legend.loc': u'upper right',\n",
       "          u'legend.markerscale': 1.0,\n",
       "          u'legend.numpoints': 2,\n",
       "          u'legend.scatterpoints': 3,\n",
       "          u'legend.shadow': False,\n",
       "          u'lines.antialiased': True,\n",
       "          u'lines.color': u'b',\n",
       "          u'lines.dash_capstyle': u'butt',\n",
       "          u'lines.dash_joinstyle': u'round',\n",
       "          u'lines.linestyle': u'-',\n",
       "          u'lines.linewidth': 1.0,\n",
       "          u'lines.marker': u'None',\n",
       "          u'lines.markeredgewidth': 0.5,\n",
       "          u'lines.markersize': 6.0,\n",
       "          u'lines.solid_capstyle': u'projecting',\n",
       "          u'lines.solid_joinstyle': u'round',\n",
       "          u'mathtext.bf': u'serif:bold',\n",
       "          u'mathtext.cal': u'cursive',\n",
       "          u'mathtext.default': u'it',\n",
       "          u'mathtext.fallback_to_cm': True,\n",
       "          u'mathtext.fontset': u'cm',\n",
       "          u'mathtext.it': u'serif:italic',\n",
       "          u'mathtext.rm': u'serif',\n",
       "          u'mathtext.sf': u'sans\\\\-serif',\n",
       "          u'mathtext.tt': u'monospace',\n",
       "          u'nbagg.transparent': True,\n",
       "          u'patch.antialiased': True,\n",
       "          u'patch.edgecolor': u'k',\n",
       "          u'patch.facecolor': u'b',\n",
       "          u'patch.linewidth': 1.0,\n",
       "          u'path.effects': [],\n",
       "          u'path.simplify': True,\n",
       "          u'path.simplify_threshold': 0.1111111111111111,\n",
       "          u'path.sketch': None,\n",
       "          u'path.snap': True,\n",
       "          u'pdf.compression': 6,\n",
       "          u'pdf.fonttype': 3,\n",
       "          u'pdf.inheritcolor': False,\n",
       "          u'pdf.use14corefonts': False,\n",
       "          u'pgf.debug': False,\n",
       "          u'pgf.preamble': [],\n",
       "          u'pgf.rcfonts': True,\n",
       "          u'pgf.texsystem': u'xelatex',\n",
       "          u'plugins.directory': u'.matplotlib_plugins',\n",
       "          u'polaraxes.grid': True,\n",
       "          u'ps.distiller.res': 6000,\n",
       "          u'ps.fonttype': 3,\n",
       "          u'ps.papersize': u'letter',\n",
       "          u'ps.useafm': False,\n",
       "          u'ps.usedistiller': False,\n",
       "          u'savefig.bbox': None,\n",
       "          u'savefig.directory': u'~',\n",
       "          u'savefig.dpi': 72.0,\n",
       "          u'savefig.edgecolor': u'w',\n",
       "          u'savefig.facecolor': u'w',\n",
       "          u'savefig.format': u'png',\n",
       "          u'savefig.frameon': True,\n",
       "          u'savefig.jpeg_quality': 95,\n",
       "          u'savefig.orientation': u'portrait',\n",
       "          u'savefig.pad_inches': 0.1,\n",
       "          u'savefig.transparent': False,\n",
       "          u'svg.fonttype': u'path',\n",
       "          u'svg.image_inline': True,\n",
       "          u'svg.image_noscale': False,\n",
       "          u'text.antialiased': True,\n",
       "          u'text.color': u'k',\n",
       "          u'text.dvipnghack': None,\n",
       "          u'text.hinting': True,\n",
       "          u'text.hinting_factor': 8,\n",
       "          u'text.latex.preamble': [],\n",
       "          u'text.latex.preview': False,\n",
       "          u'text.latex.unicode': False,\n",
       "          u'text.usetex': False,\n",
       "          u'timezone': u'UTC',\n",
       "          u'tk.window_focus': False,\n",
       "          u'toolbar': u'toolbar2',\n",
       "          u'verbose.fileo': u'sys.stdout',\n",
       "          u'verbose.level': u'silent',\n",
       "          u'webagg.open_in_browser': True,\n",
       "          u'webagg.port': 8988,\n",
       "          u'webagg.port_retries': 50,\n",
       "          u'xtick.color': u'k',\n",
       "          u'xtick.direction': u'in',\n",
       "          u'xtick.labelsize': u'medium',\n",
       "          u'xtick.major.pad': 4.0,\n",
       "          u'xtick.major.size': 4.0,\n",
       "          u'xtick.major.width': 0.5,\n",
       "          u'xtick.minor.pad': 4.0,\n",
       "          u'xtick.minor.size': 2.0,\n",
       "          u'xtick.minor.width': 0.5,\n",
       "          u'ytick.color': u'k',\n",
       "          u'ytick.direction': u'in',\n",
       "          u'ytick.labelsize': u'medium',\n",
       "          u'ytick.major.pad': 4.0,\n",
       "          u'ytick.major.size': 4.0,\n",
       "          u'ytick.major.width': 0.5,\n",
       "          u'ytick.minor.pad': 4.0,\n",
       "          u'ytick.minor.size': 2.0,\n",
       "          u'ytick.minor.width': 0.5})"
      ]
     },
     "execution_count": 3,
     "metadata": {},
     "output_type": "execute_result"
    }
   ],
   "source": [
    "import matplotlib as mpl\n",
    "\n",
    "print mpl.matplotlib_fname() # показывает откуда был загружен текуший файл matplotlibrc\n",
    "\n",
    "mpl.rcParams # показывает текущие настройки\n",
    "\n",
    "# mpl.rcParamsDefault # показывает значения параметров, которые хранятся в файле matplotlibrc\n",
    "\n",
    "# mpl.rcdefaults() сбрасывает значения на те, которые хранятся в файле matplotlibrc"
   ]
  },
  {
   "cell_type": "markdown",
   "metadata": {},
   "source": [
    "### 3.2 Текст на рисунке\n",
    "\n",
    "Одними из самых базовых графических команд являются команды, отображающие текст. Самой простой такой командой, не привязаной к какому-либо объекту вроде координатной оси или делений координатной оси, является команда plt.text(). \n",
    "\n",
    "В качестве входящих данных она принимает координаты положения будующей строки и сам текст в виде строки. По умолчанию координаты положения строки будут приурочены к области изменения данных. Можно задать положение текста в относительных координатах (см. пример ниже), когда вся область рисования изменяется по обеим координатным осям от 0 до 1 включительно. Таким образом, координата (0.5, 0.5) в относительных координатах означает центр области рисования. Текст можно выровнять с помощью параметров horizontalalignment и verticalalignment, а также заключать его в рамку с цветным фоном, передав параметр bbox. Bbox - это словарь, работающий со свойствами прямоугольника, то есть объектом Rectangle.\n",
    "\n",
    "Помимо метода text() существуют и другие методы отображения текста в pyplot. Ниже представлен список текстовых команд в pyplot, в квадратных скобках указан альтернативный синтаксис вызова аналогичных команд в ООП стиле. Подробнее об ООП стиле будет рассказано позже.\n",
    "\n",
    "+ plt.xlabel() - добавляет подпись оси абсции OX [matplotlib.axes.Axes.set_xlabel()];\n",
    "\n",
    "+ plt.ylabel() - добавляет подпись оси ординат OY [matplotlib.axes.Axes.set_ylabel()];\n",
    "\n",
    "+ plt.title() - добавляет заголовок для области рисования Axes [matplotlib.axes.Axes.set_title()];\n",
    "\n",
    "+ plt.figtext() - добавляет текст на рисунок Figure [matplotlib.figure.Figure.text()];\n",
    "\n",
    "+ plt.suptitle() - добавляет заголовок для рисунка Figure [matplotlib.figure.Figure.suptitle()];\n",
    "\n",
    "+ plt.annotate() - добавляет примечание, которое состоит из текста и необязательной стрелки в указанную область на рисунке [matplotlib.axes.Axes.annotate()]\n",
    "\n",
    "Каждый текст на рисунке - это экземпляр либо исходного класса, либо дочернего класса для matplotlib.text.Text."
   ]
  },
  {
   "cell_type": "code",
   "execution_count": 4,
   "metadata": {
    "collapsed": false
   },
   "outputs": [
    {
     "name": "stdout",
     "output_type": "stream",
     "text": [
      "Text class: <class 'matplotlib.text.Text'>\n"
     ]
    },
    {
     "data": {
      "image/png": "[encoded data removed]",
      "text/plain": [
       "<matplotlib.figure.Figure at 0xa0c7208>"
      ]
     },
     "metadata": {},
     "output_type": "display_data"
    }
   ],
   "source": [
    "# Пример 3.2\n",
    "\n",
    "import matplotlib as mpl\n",
    "import matplotlib.pyplot as plt\n",
    "import numpy as np\n",
    "\n",
    "a = 1.\n",
    "x = np.arange(-2*np.pi, 2*np.pi, 0.05)\n",
    "# Уравнение кардиоиды\n",
    "xz = a*(2*np.cos(x) - np.cos(2*x))\n",
    "yz = a*(2*np.sin(x) - np.sin(2*x))\n",
    "\n",
    "fig = plt.figure()\n",
    "plt.plot(xz, yz)\n",
    "\n",
    "# Текст в координатах данных\n",
    "str1 = plt.text(-np.pi/2., np.pi/2., 'Text in absolute coords', fontsize=14)   # выравнивание по левому краю\n",
    "print('Text class: %s' % str1.__class__)\n",
    "\n",
    "# Текст в рамке\n",
    "plt.text(0.5, 0.5, 'Text with borders', fontsize=14,\n",
    "         # выравнивание по вертикали и по горизонтали по центру\n",
    "         horizontalalignment='center', verticalalignment='center',\n",
    "         bbox=dict(facecolor='pink', alpha=0.5))\n",
    "\n",
    "# Текст в относительных координатах области рисования ax\n",
    "ax = fig.add_subplot(111)   # создаём область рисования ax\n",
    "plt.text(0.5, 0.5, 'Text in relative coords', fontsize=14,\n",
    "         horizontalalignment='right', verticalalignment='center',\n",
    "         transform=ax.transAxes)\n",
    "plt.grid()\n",
    "\n",
    "save('pic_3_2', fmt='png')\n",
    "save('pic_3_2', fmt='pdf')\n",
    "\n",
    "plt.show()"
   ]
  },
  {
   "cell_type": "markdown",
   "metadata": {},
   "source": [
    "### 3.3 Наборы шрифтов. Стили и форматы\n",
    "\n",
    "Из настроек matplotlibrc или rcParams нас интересуют fonts, то есть шрифты. Есть 5 наборов шрифтов: \n",
    "\n",
    "+ cursive;\n",
    "\n",
    "+ fantasy;\n",
    "\n",
    "+ monospace;\n",
    "\n",
    "+ sans-serif;\n",
    "\n",
    "+ serif. \n",
    "\n",
    "Один из этих пяти наборов является текущим. За это отвечает параметр font.family. Каждый набор может состоять из одного или более шрифтов. Причём можно указывать шрифты, которые не установлены в ОС. Работать такие шрифты не будут, но формально указать их можно. Такая настройка определяет шрифт для всех подписей и текста на рисунке. Если конкретную подпись необходимо сделать другим шрифтом, можно указать шрифт из текущего стиля прямо в команде, передав в качестве соответствующего параметра словарь: {'fontname':'название_шрифта'}.\n",
    "\n",
    "Помимо семейств, текст также может иметь стиль. Атрибут стиля style может быть либо 'italic', либо 'oblique', либо 'normal' (по умолчанию). Толщина или \"жирность\" шрифта, может быть задана через атрибут fontweight, который принимает значения 'bold', 'light' или 'normal' (по умолчанию). Стили и форматы можно комбинировать."
   ]
  },
  {
   "cell_type": "code",
   "execution_count": 5,
   "metadata": {
    "collapsed": false
   },
   "outputs": [
    {
     "name": "stdout",
     "output_type": "stream",
     "text": [
      "cfam fantasy\n",
      "[u'Arial', u'Times New Roman', u'Tahoma', u'Comic Sans MS', u'Courier']\n"
     ]
    },
    {
     "name": "stderr",
     "output_type": "stream",
     "text": [
      "C:\\Users\\pasha\\Anaconda\\lib\\site-packages\\matplotlib\\font_manager.py:1282: UserWarning: findfont: Font family [u'Courier'] not found. Falling back to Bitstream Vera Sans\n",
      "  (prop.get_family(), self.defaultFamily[fontext]))\n"
     ]
    },
    {
     "data": {
      "image/png": "[encoded data removed]",
      "text/plain": [
       "<matplotlib.figure.Figure at 0x3f23d68>"
      ]
     },
     "metadata": {},
     "output_type": "display_data"
    }
   ],
   "source": [
    "# Пример 3.3\n",
    "\n",
    "import matplotlib as mpl\n",
    "import matplotlib.pyplot as plt\n",
    "import numpy as np\n",
    "\n",
    "mpl.rcParams['font.fantasy'] = 'Arial', 'Times New Roman', 'Tahoma', 'Comic Sans MS', 'Courier'\n",
    "mpl.rcParams['font.family'] = 'fantasy'\n",
    "\n",
    "# Текущий стиль-семейство шрифтов\n",
    "cfam = mpl.rcParams.get('font.family')[0]\n",
    "print('cfam %s' % cfam)\n",
    "cfont = mpl.rcParams.get('font.fantasy')[0]\n",
    "\n",
    "# Первый шрифт в текущем семействе\n",
    "print(mpl.rcParams.get('font.%s' % cfam))\n",
    "\n",
    "\n",
    "N = 100\n",
    "x = np.arange(N)\n",
    "# Задаём выборку из Гамма-распредления с параметрами формы=1. и масштаба=3.0\n",
    "y = np.random.gamma(1.0, 3.0, N)\n",
    "\n",
    "fig = plt.figure()\n",
    "cc = plt.hist(y) \n",
    "\n",
    "text_style = ['italic', 'oblique', 'normal']\n",
    "font_weights = ['bold', 'light', 'normal']\n",
    "for i, ts in enumerate(text_style):\n",
    "    plt.text(6, 20-5*i, '%s text style' % ts, {'fontname':'Courier'}, style=ts, fontsize=14)\n",
    "    plt.text(6, 35-4*i, '%s & %s text style' % (ts, font_weights[i]), {'fontname':'Courier'}, \n",
    "             style=ts, fontweight=font_weights[i], fontsize=12)\n",
    "    \n",
    "plt.title('Title has %s font' % cfont, fontweight='normal', color='k', fontsize=16)\n",
    "plt.xlabel('Bold weight', {'fontname':'Times New Roman'}, fontweight='bold', fontsize=16)\n",
    "plt.ylabel('Light weight', {'fontname':'Times New Roman'}, fontweight='light', fontsize=14)\n",
    "plt.grid(True)\n",
    "\n",
    "save('pic_3_3', fmt='png')\n",
    "save('pic_3_3', fmt='pdf')\n",
    "\n",
    "plt.show()"
   ]
  },
  {
   "cell_type": "markdown",
   "metadata": {},
   "source": [
    "### 3.4 Кириллица и matplotlib. Подписи по-русски\n",
    "\n",
    "Кириллица \"из коробки\" не поддерживается в matplotlib. Однако настроить поддержку русского алфавита несложно. Основная проблема matplotlib для отображения кириллических символов состоит в том, что по умолчанию используются шрифты, которые не поддерживают кириллицу. Соответственно, решение проблемы отображения русского алфавита заключается в смене шрифта на тот, который поддерживает кириллицу. В ОС Windows это может быть, например, Arial, Times New Roman или Tahoma. Сделать это можно как в теле самой программы-скрипта, так и в профильных настройках.\n",
    "\n",
    "У каждого стиля шрифта определены списки из реальных шрифтов, которыми пользуются в текстовых процессорах и редакторах. Чтобы поставить шрифт, который будет корректно отображать кириллицу, можно воспользоваться таким примером:"
   ]
  },
  {
   "cell_type": "code",
   "execution_count": 6,
   "metadata": {
    "collapsed": true
   },
   "outputs": [],
   "source": [
    "import matplotlib as mpl\n",
    "mpl.rcParams['font.family'] = 'fantasy'\n",
    "mpl.rcParams['font.fantasy'] = 'Arial', 'Times New Roman', 'Tahoma'"
   ]
  },
  {
   "cell_type": "markdown",
   "metadata": {},
   "source": [
    "Таким образом, набор fantasy будет основным, и из него будет использован шрифт Arial. Если он не будет найден, то будет выбран второй по списку и так далее. Оба представленных шрифта корректно отображают кирилличекие символы.\n",
    "\n",
    "Можно использовать и такой синтаксис:"
   ]
  },
  {
   "cell_type": "code",
   "execution_count": 7,
   "metadata": {
    "collapsed": false
   },
   "outputs": [
    {
     "name": "stdout",
     "output_type": "stream",
     "text": [
      "Courier New\n",
      "Arial\n"
     ]
    },
    {
     "data": {
      "image/png": "[encoded data removed]",
      "text/plain": [
       "<matplotlib.figure.Figure at 0x3f23f98>"
      ]
     },
     "metadata": {},
     "output_type": "display_data"
    }
   ],
   "source": [
    "# Пример 3.4.1\n",
    "\n",
    "from matplotlib import rc\n",
    " \n",
    "font = {'family': 'Courier New',\n",
    "        'weight': 'normal'}\n",
    "rc('font', **font)\n",
    "\n",
    "cfam = mpl.rcParams.get('font.family')[0]\n",
    "print cfam\n",
    "cfont = mpl.rcParams.get('font.fantasy')[0]\n",
    "print cfont\n",
    "\n",
    "plt.text(0.25, 0.45, u'Стиль %s по умолчанию' % cfam)\n",
    "plt.text(0.25, 0.25, u'Шрифт Arial', {'fontname':'Arial'})\n",
    "\n",
    "plt.xlabel(u'Ось абсцисс', {'fontname':'Arial'})\n",
    "plt.ylabel(u'Ось ординат', {'fontname':'Times New Roman'})\n",
    "plt.title(u'Заголовок и буква Ё! А также разные шрифты элементов рисунка',{'fontname':'Tahoma'})\n",
    "plt.grid()\n",
    "\n",
    "save('pic_3_4_1', fmt='png')\n",
    "save('pic_3_4_1', fmt='pdf')\n",
    "\n",
    "plt.show()"
   ]
  },
  {
   "cell_type": "markdown",
   "metadata": {},
   "source": [
    "Список доступных в ОС шрифтов можно узнать, например, вот так:"
   ]
  },
  {
   "cell_type": "code",
   "execution_count": 8,
   "metadata": {
    "collapsed": false
   },
   "outputs": [
    {
     "name": "stdout",
     "output_type": "stream",
     "text": [
      "0 C:\\WINDOWS\\Fonts\\AGENCYB.TTF\n",
      "50 C:\\WINDOWS\\Fonts\\CENSCBK.TTF\n",
      "100 C:\\WINDOWS\\Fonts\\GOUDOS.TTF\n",
      "150 C:\\WINDOWS\\Fonts\\MISTRAL.TTF\n",
      "200 C:\\WINDOWS\\Fonts\\VINERITC.TTF\n",
      "250 C:\\WINDOWS\\Fonts\\himalaya.ttf\n",
      "300 C:\\WINDOWS\\Fonts\\times.ttf\n",
      "350 c:\\windows\\fonts\\bod_i.ttf\n",
      "400 c:\\windows\\fonts\\constanb.ttf\n",
      "450 c:\\windows\\fonts\\gil_____.ttf\n",
      "500 c:\\windows\\fonts\\leeluisl.ttf\n",
      "550 c:\\windows\\fonts\\perbi___.ttf\n",
      "600 c:\\windows\\fonts\\tahoma.ttf\n"
     ]
    }
   ],
   "source": [
    "import matplotlib.font_manager as fm\n",
    "for i, font in enumerate(sorted(fm.findSystemFonts())):\n",
    "    # Шрифтов в системе очень много. Полный список занимает не одну страницу A4\n",
    "    if(i % 50 == 0):\n",
    "        print i, font"
   ]
  },
  {
   "cell_type": "markdown",
   "metadata": {},
   "source": [
    "Для поиска по названию известного вам шрифта в ОС можно воспользоваться функцией findfont:"
   ]
  },
  {
   "cell_type": "code",
   "execution_count": 9,
   "metadata": {
    "collapsed": false
   },
   "outputs": [
    {
     "name": "stdout",
     "output_type": "stream",
     "text": [
      "Courier New - C:\\WINDOWS\\Fonts\\cour.ttf\n",
      "Times New Roman - c:\\windows\\fonts\\times.ttf\n",
      "Comic Sans MS - c:\\windows\\fonts\\comic.ttf\n"
     ]
    }
   ],
   "source": [
    "import matplotlib.font_manager as fm\n",
    "print 'Courier New - %s' % fm.findfont('Courier New') # Ищем Courier New\n",
    "print 'Times New Roman - %s' % fm.findfont('times new roman') # Ищем times new roman строчными буквами\n",
    "print 'Comic Sans MS - %s' % fm.findfont('COMIC SANS MS') # Ищем COMIC SANS MS прописными буквами"
   ]
  },
  {
   "cell_type": "markdown",
   "metadata": {},
   "source": [
    "**Вторым необходимым условием** для отображения на рисунках matplotlib русских букв является использование unicode-строк. В python3 все строки являются юникодовыми, там дополнительных примочек не нужно. В python2 необходимо преобразовывать обычную строку в юникод-строку: "
   ]
  },
  {
   "cell_type": "code",
   "execution_count": 10,
   "metadata": {
    "collapsed": false
   },
   "outputs": [
    {
     "name": "stdout",
     "output_type": "stream",
     "text": [
      "строка 1 <type 'str'>\n",
      "строка 1 <type 'unicode'>\n"
     ]
    }
   ],
   "source": [
    "str1 = 'строка 1' # обычная строка\n",
    "print str1,type(str1)\n",
    "str2 = u'строка 1' # unicode-строка\n",
    "print str2,type(str2)"
   ]
  },
  {
   "cell_type": "markdown",
   "metadata": {},
   "source": [
    "Также ставим в начале скрипта: # -*- coding: utf-8 -*- . В GUI Spyder такая запись вставляется в новый созданный скрипт по умолчанию."
   ]
  },
  {
   "cell_type": "code",
   "execution_count": 11,
   "metadata": {
    "collapsed": false
   },
   "outputs": [
    {
     "data": {
      "image/png": "[encoded data removed]",
      "text/plain": [
       "<matplotlib.figure.Figure at 0xa0c5a90>"
      ]
     },
     "metadata": {},
     "output_type": "display_data"
    }
   ],
   "source": [
    "# -*- coding: utf-8 -*-\n",
    "# Пример 3.4.2\n",
    "\n",
    "from math import pi\n",
    "import numpy as np\n",
    "import matplotlib as mpl\n",
    "import matplotlib.pyplot as plt\n",
    "\n",
    "#mpl.rcdefaults() # cбрасываем настройки на \"по умолчанию\"\n",
    "mpl.rcParams['font.family'] = 'fantasy'\n",
    "mpl.rcParams['font.fantasy'] = 'Times New Roman', 'Ubuntu','Arial','Tahoma','Calibri'\n",
    "\n",
    "x = np.arange(-pi,pi+0.1,0.1)\n",
    "\n",
    "fig = plt.figure()\n",
    "ax1 = fig.add_subplot(111)\n",
    "y = np.tanh(x)\n",
    "y2 = np.arctan(x)\n",
    "ax1.plot(x,y,'k--',label=u'Гиперболический тангенс')\n",
    "ax1.plot(x,y2,'b',label=u'Арктангенс')\n",
    "\n",
    "st = u'Заголовок по-русски'\n",
    "sy = u'Ось ординат OY по-русски'\n",
    "sx = u'Ось абсцисс OX по-русски'\n",
    "\n",
    "ax1.set_title(st,size=20,color='green')\n",
    "ax1.set_xlabel(sx,size=14,color='orange')\n",
    "ax1.set_ylabel(sy,size=12, color='black')\n",
    "ax1.grid(True)\n",
    "ax1.legend(loc='best',frameon=False)\n",
    "\n",
    "plt.tight_layout() # автоматическое выравнивание элементов на холсте plt\n",
    "\n",
    "save('pic_3_4_2', fmt='png')\n",
    "save('pic_3_4_2', fmt='pdf')\n",
    "\n",
    "plt.show()"
   ]
  },
  {
   "cell_type": "markdown",
   "metadata": {},
   "source": [
    "### 3.5 Работа с математическими формулами. Поддержка LaTex\n",
    "\n",
    "> **Для работы с LaTex необходимо установить его дистрибутив! Создатели ipython notebooks советуют [использовать MikTex](http://miktex.org/download)**\n",
    "\n",
    "Существенным преимуществом matplotlib является безбарьерная работа с LaTex. Нужно, чтобы в системе был установлена библиотека LaTeX (именно библиотека, а не редактор). Код LaTex оформляется в виде \"raw\" строки (перед строкой ставится символ r -> r'строка'). Также в настройках pyplot нужно указать, чтобы текст отрисовывался с учётом синтаксиса LaTeX. Это можно сделать через plt.rc('text', usetex=True)."
   ]
  },
  {
   "cell_type": "code",
   "execution_count": 12,
   "metadata": {
    "collapsed": false
   },
   "outputs": [
    {
     "data": {
      "image/png": "[encoded data removed]",
      "text/plain": [
       "<matplotlib.figure.Figure at 0xb6e4780>"
      ]
     },
     "metadata": {},
     "output_type": "display_data"
    }
   ],
   "source": [
    "# Пример 3.5\n",
    "\n",
    "import matplotlib.pyplot as plt\n",
    "import numpy as np\n",
    "\n",
    "# Преамблуа для работы с LaTeX\n",
    "plt.rc('text', usetex=True)\n",
    "\n",
    "N = 100\n",
    "x = np.arange(N)\n",
    "z1 = np.cos(x/10.)\n",
    "z2 = np.cos(x/20.)\n",
    "\n",
    "fig = plt.figure()\n",
    "plt.fill_between(x, z2, z1, color='green', alpha=0.25) \n",
    "plt.plot(x, z1, color='green', linewidth=4.0)\n",
    "plt.plot(x, z2, color='green', linewidth=4.0, alpha=0.5)\n",
    "plt.title(r'$\\S1.3.2 \\LaTeX example$')\n",
    "plt.text(22, 0.5, r'$ e=mc^2 $', fontsize='16')\n",
    "plt.text(55, -0.5, r'$\\displaystyle\\sum_{n=1}^\\infty\\frac{-e^{i\\pi}}{2^n}$!', fontsize=18, rotation=60)\n",
    "\n",
    "plt.grid(True)\n",
    "plt.xlabel(r'\\textbf{Time (s)}')\n",
    "plt.ylabel(r'\\textit{Sin(x) \\& cos(x)}', color='red', rotation=45)\n",
    "\n",
    "save('pic_3_5', fmt='png')\n",
    "save('pic_3_5', fmt='pdf')\n",
    "\n",
    "plt.show()"
   ]
  },
  {
   "cell_type": "markdown",
   "metadata": {},
   "source": [
    "Для корректного отображения не латеховского кода, нужно не забыть отключить его поддержку, если элементы LaTeX использовались для создания рисунка."
   ]
  },
  {
   "cell_type": "code",
   "execution_count": 14,
   "metadata": {
    "collapsed": false
   },
   "outputs": [],
   "source": [
    "plt.rc('text', usetex=False)"
   ]
  },
  {
   "cell_type": "markdown",
   "metadata": {
    "collapsed": true
   },
   "source": [
    "Автор: Шабанов Павел Александрович\n",
    "\n",
    "E-mail: pa.shabanov@gmail.com\n",
    "\n",
    "#### Научная графика в python. Глава 3 Текст и шрифты"
   ]
  }
 ],
 "metadata": {
  "kernelspec": {
   "display_name": "Python 2",
   "language": "python",
   "name": "python2"
  },
  "language_info": {
   "codemirror_mode": {
    "name": "ipython",
    "version": 2
   },
   "file_extension": ".py",
   "mimetype": "text/x-python",
   "name": "python",
   "nbconvert_exporter": "python",
   "pygments_lexer": "ipython2",
   "version": "2.7.10"
  }
 },
 "nbformat": 4,
 "nbformat_minor": 0
}
